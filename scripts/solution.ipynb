{
 "cells": [
  {
   "cell_type": "code",
   "execution_count": 1,
   "metadata": {
    "collapsed": true
   },
   "outputs": [],
   "source": [
    "import pandas as pd\n",
    "import numpy as np\n",
    "import seaborn as sns\n",
    "import matplotlib.pyplot as plt\n",
    "%matplotlib inline"
   ]
  },
  {
   "cell_type": "code",
   "execution_count": null,
   "metadata": {
    "collapsed": true
   },
   "outputs": [],
   "source": []
  },
  {
   "cell_type": "code",
   "execution_count": 358,
   "metadata": {},
   "outputs": [],
   "source": [
    "df=pd.read_csv('csv/train.csv')"
   ]
  },
  {
   "cell_type": "code",
   "execution_count": null,
   "metadata": {
    "collapsed": true
   },
   "outputs": [],
   "source": []
  },
  {
   "cell_type": "code",
   "execution_count": 359,
   "metadata": {},
   "outputs": [],
   "source": [
    "def to_date2(row):\n",
    "    x=datetime.strptime(row['date_priced'], '%m/%d/%Y %I:%M %p')\n",
    "    return x\n",
    "def to_date1(row):\n",
    "    x=datetime.strptime(row['buid_date'], '%m/%d/%Y %I:%M %p')\n",
    "    return x\n",
    "def fun_b_year(row):\n",
    "    x=row['build_date']\n",
    "    return x.year\n",
    "\n",
    "def fun_p_year(row):\n",
    "    x=row['date_priced']\n",
    "    return x.year\n",
    "\n",
    "df['buid_date']=df.apply(lambda i:to_date1(i),axis=1)\n",
    "df['date_priced']=df.apply(lambda i:to_date2(i),axis=1)\n",
    "\n",
    "#df['build_year']=df.apply(lambda i:fun_b_year(i),axis=1)\n",
    "#df['priced_year']=df.apply(lambda i:fun_p_year(i),axis=1)"
   ]
  },
  {
   "cell_type": "code",
   "execution_count": 360,
   "metadata": {
    "collapsed": true
   },
   "outputs": [],
   "source": [
    "x=df['buid_date']"
   ]
  },
  {
   "cell_type": "code",
   "execution_count": 298,
   "metadata": {},
   "outputs": [],
   "source": [
    "#df=df.convert_objects(convert_numeric=True)"
   ]
  },
  {
   "cell_type": "code",
   "execution_count": 362,
   "metadata": {},
   "outputs": [],
   "source": [
    "for i in range (0, df.index.size):\n",
    "    df.loc[i,'house_age']=(df.loc[i,'date_priced']-df.loc[i,'buid_date']).days\n",
    "    df.loc[i,'build_year']=(df.loc[i,'buid_date']).year\n",
    "    df.loc[i,'priced_year']=(df.loc[i,'date_priced']).year"
   ]
  },
  {
   "cell_type": "code",
   "execution_count": 363,
   "metadata": {},
   "outputs": [
    {
     "data": {
      "text/html": [
       "<div>\n",
       "<style>\n",
       "    .dataframe thead tr:only-child th {\n",
       "        text-align: right;\n",
       "    }\n",
       "\n",
       "    .dataframe thead th {\n",
       "        text-align: left;\n",
       "    }\n",
       "\n",
       "    .dataframe tbody tr th {\n",
       "        vertical-align: top;\n",
       "    }\n",
       "</style>\n",
       "<table border=\"1\" class=\"dataframe\">\n",
       "  <thead>\n",
       "    <tr style=\"text-align: right;\">\n",
       "      <th></th>\n",
       "      <th>house_id</th>\n",
       "      <th>buid_date</th>\n",
       "      <th>date_priced</th>\n",
       "      <th>garden</th>\n",
       "      <th>dst_dock</th>\n",
       "      <th>dst_capital</th>\n",
       "      <th>dst_mkt</th>\n",
       "      <th>dst_tower</th>\n",
       "      <th>dst_river</th>\n",
       "      <th>renovation</th>\n",
       "      <th>...</th>\n",
       "      <th>king_blessing</th>\n",
       "      <th>farm_land</th>\n",
       "      <th>locations</th>\n",
       "      <th>holy_tree</th>\n",
       "      <th>dst_knight</th>\n",
       "      <th>builder</th>\n",
       "      <th>price</th>\n",
       "      <th>house_age</th>\n",
       "      <th>build_year</th>\n",
       "      <th>priced_year</th>\n",
       "    </tr>\n",
       "  </thead>\n",
       "  <tbody>\n",
       "    <tr>\n",
       "      <th>0</th>\n",
       "      <td>6e32cec0</td>\n",
       "      <td>1602-04-21 00:41:00</td>\n",
       "      <td>1609-07-09 01:11:00</td>\n",
       "      <td>0.0</td>\n",
       "      <td>138.600639</td>\n",
       "      <td>0.256239</td>\n",
       "      <td>69.486467</td>\n",
       "      <td>14.394903</td>\n",
       "      <td>63.109038</td>\n",
       "      <td>0.0</td>\n",
       "      <td>...</td>\n",
       "      <td>160</td>\n",
       "      <td>small</td>\n",
       "      <td>King's Landing</td>\n",
       "      <td>yes</td>\n",
       "      <td>10.505662</td>\n",
       "      <td>data/Bob</td>\n",
       "      <td>1470912.0</td>\n",
       "      <td>2636.0</td>\n",
       "      <td>1602.0</td>\n",
       "      <td>1609.0</td>\n",
       "    </tr>\n",
       "    <tr>\n",
       "      <th>1</th>\n",
       "      <td>6e32ceda</td>\n",
       "      <td>1603-10-23 23:14:00</td>\n",
       "      <td>1611-10-21 07:40:00</td>\n",
       "      <td>0.0</td>\n",
       "      <td>10.998322</td>\n",
       "      <td>122.930753</td>\n",
       "      <td>63.794375</td>\n",
       "      <td>53.019891</td>\n",
       "      <td>17.045949</td>\n",
       "      <td>0.0</td>\n",
       "      <td>...</td>\n",
       "      <td>37</td>\n",
       "      <td>huge</td>\n",
       "      <td>The Mountains</td>\n",
       "      <td>yes</td>\n",
       "      <td>132.934312</td>\n",
       "      <td>data/Bob</td>\n",
       "      <td>1052137.0</td>\n",
       "      <td>2919.0</td>\n",
       "      <td>1603.0</td>\n",
       "      <td>1611.0</td>\n",
       "    </tr>\n",
       "    <tr>\n",
       "      <th>2</th>\n",
       "      <td>6e32cf09</td>\n",
       "      <td>1603-03-18 03:53:00</td>\n",
       "      <td>1610-05-17 21:36:00</td>\n",
       "      <td>0.0</td>\n",
       "      <td>52.819705</td>\n",
       "      <td>80.970959</td>\n",
       "      <td>96.656914</td>\n",
       "      <td>70.965631</td>\n",
       "      <td>6.548119</td>\n",
       "      <td>0.0</td>\n",
       "      <td>...</td>\n",
       "      <td>79</td>\n",
       "      <td>small</td>\n",
       "      <td>Cursed Land</td>\n",
       "      <td>yes</td>\n",
       "      <td>91.425357</td>\n",
       "      <td>data/Bob</td>\n",
       "      <td>1017577.0</td>\n",
       "      <td>2617.0</td>\n",
       "      <td>1603.0</td>\n",
       "      <td>1610.0</td>\n",
       "    </tr>\n",
       "    <tr>\n",
       "      <th>3</th>\n",
       "      <td>6e32cfa9</td>\n",
       "      <td>1606-08-18 00:23:00</td>\n",
       "      <td>1608-01-20 10:45:00</td>\n",
       "      <td>0.0</td>\n",
       "      <td>82.283966</td>\n",
       "      <td>4.331436</td>\n",
       "      <td>29.043012</td>\n",
       "      <td>119.126593</td>\n",
       "      <td>24.298255</td>\n",
       "      <td>0.0</td>\n",
       "      <td>...</td>\n",
       "      <td>156</td>\n",
       "      <td>small</td>\n",
       "      <td>Cursed Land</td>\n",
       "      <td>no</td>\n",
       "      <td>14.695102</td>\n",
       "      <td>data/Bob</td>\n",
       "      <td>1409057.0</td>\n",
       "      <td>520.0</td>\n",
       "      <td>1606.0</td>\n",
       "      <td>1608.0</td>\n",
       "    </tr>\n",
       "    <tr>\n",
       "      <th>4</th>\n",
       "      <td>6e32cfb7</td>\n",
       "      <td>1603-09-11 11:53:00</td>\n",
       "      <td>1611-05-20 16:49:00</td>\n",
       "      <td>0.0</td>\n",
       "      <td>34.524141</td>\n",
       "      <td>NaN</td>\n",
       "      <td>6.740951</td>\n",
       "      <td>222.341302</td>\n",
       "      <td>1.821655</td>\n",
       "      <td>0.0</td>\n",
       "      <td>...</td>\n",
       "      <td>74</td>\n",
       "      <td>small</td>\n",
       "      <td>The Mountains</td>\n",
       "      <td>yes</td>\n",
       "      <td>NaN</td>\n",
       "      <td>data/Bob</td>\n",
       "      <td>1317434.0</td>\n",
       "      <td>2808.0</td>\n",
       "      <td>1603.0</td>\n",
       "      <td>1611.0</td>\n",
       "    </tr>\n",
       "  </tbody>\n",
       "</table>\n",
       "<p>5 rows × 25 columns</p>\n",
       "</div>"
      ],
      "text/plain": [
       "   house_id            buid_date          date_priced  garden    dst_dock  \\\n",
       "0  6e32cec0  1602-04-21 00:41:00  1609-07-09 01:11:00     0.0  138.600639   \n",
       "1  6e32ceda  1603-10-23 23:14:00  1611-10-21 07:40:00     0.0   10.998322   \n",
       "2  6e32cf09  1603-03-18 03:53:00  1610-05-17 21:36:00     0.0   52.819705   \n",
       "3  6e32cfa9  1606-08-18 00:23:00  1608-01-20 10:45:00     0.0   82.283966   \n",
       "4  6e32cfb7  1603-09-11 11:53:00  1611-05-20 16:49:00     0.0   34.524141   \n",
       "\n",
       "   dst_capital    dst_mkt   dst_tower  dst_river  renovation     ...       \\\n",
       "0     0.256239  69.486467   14.394903  63.109038         0.0     ...        \n",
       "1   122.930753  63.794375   53.019891  17.045949         0.0     ...        \n",
       "2    80.970959  96.656914   70.965631   6.548119         0.0     ...        \n",
       "3     4.331436  29.043012  119.126593  24.298255         0.0     ...        \n",
       "4          NaN   6.740951  222.341302   1.821655         0.0     ...        \n",
       "\n",
       "   king_blessing  farm_land       locations  holy_tree  dst_knight   builder  \\\n",
       "0            160      small  King's Landing        yes   10.505662  data/Bob   \n",
       "1             37       huge   The Mountains        yes  132.934312  data/Bob   \n",
       "2             79      small     Cursed Land        yes   91.425357  data/Bob   \n",
       "3            156      small     Cursed Land         no   14.695102  data/Bob   \n",
       "4             74      small   The Mountains        yes         NaN  data/Bob   \n",
       "\n",
       "       price house_age build_year  priced_year  \n",
       "0  1470912.0    2636.0     1602.0       1609.0  \n",
       "1  1052137.0    2919.0     1603.0       1611.0  \n",
       "2  1017577.0    2617.0     1603.0       1610.0  \n",
       "3  1409057.0     520.0     1606.0       1608.0  \n",
       "4  1317434.0    2808.0     1603.0       1611.0  \n",
       "\n",
       "[5 rows x 25 columns]"
      ]
     },
     "execution_count": 363,
     "metadata": {},
     "output_type": "execute_result"
    }
   ],
   "source": [
    "df.head()"
   ]
  },
  {
   "cell_type": "code",
   "execution_count": 302,
   "metadata": {},
   "outputs": [
    {
     "data": {
      "text/html": [
       "<div>\n",
       "<style>\n",
       "    .dataframe thead tr:only-child th {\n",
       "        text-align: right;\n",
       "    }\n",
       "\n",
       "    .dataframe thead th {\n",
       "        text-align: left;\n",
       "    }\n",
       "\n",
       "    .dataframe tbody tr th {\n",
       "        vertical-align: top;\n",
       "    }\n",
       "</style>\n",
       "<table border=\"1\" class=\"dataframe\">\n",
       "  <thead>\n",
       "    <tr style=\"text-align: right;\">\n",
       "      <th></th>\n",
       "      <th>garden</th>\n",
       "      <th>dst_dock</th>\n",
       "      <th>dst_capital</th>\n",
       "      <th>dst_mkt</th>\n",
       "      <th>dst_tower</th>\n",
       "      <th>dst_river</th>\n",
       "      <th>renovation</th>\n",
       "      <th>dining_rooms</th>\n",
       "      <th>bedrooms</th>\n",
       "      <th>bathrooms</th>\n",
       "      <th>king_visit</th>\n",
       "      <th>curse</th>\n",
       "      <th>king_blessing</th>\n",
       "      <th>dst_knight</th>\n",
       "      <th>price</th>\n",
       "      <th>house_age</th>\n",
       "    </tr>\n",
       "  </thead>\n",
       "  <tbody>\n",
       "    <tr>\n",
       "      <th>count</th>\n",
       "      <td>14515.000000</td>\n",
       "      <td>14859.000000</td>\n",
       "      <td>15669.000000</td>\n",
       "      <td>14146.000000</td>\n",
       "      <td>15956.000000</td>\n",
       "      <td>16500.000000</td>\n",
       "      <td>14871.000000</td>\n",
       "      <td>14862.000000</td>\n",
       "      <td>15851.000000</td>\n",
       "      <td>15536.000000</td>\n",
       "      <td>16500.000000</td>\n",
       "      <td>15502.000000</td>\n",
       "      <td>16500.000000</td>\n",
       "      <td>15669.000000</td>\n",
       "      <td>1.650000e+04</td>\n",
       "      <td>16500.000000</td>\n",
       "    </tr>\n",
       "    <tr>\n",
       "      <th>mean</th>\n",
       "      <td>0.096659</td>\n",
       "      <td>46.305520</td>\n",
       "      <td>42.674021</td>\n",
       "      <td>48.715817</td>\n",
       "      <td>101.110421</td>\n",
       "      <td>30.288848</td>\n",
       "      <td>0.195817</td>\n",
       "      <td>3.001615</td>\n",
       "      <td>3.001514</td>\n",
       "      <td>3.007209</td>\n",
       "      <td>0.085030</td>\n",
       "      <td>0.149336</td>\n",
       "      <td>115.142545</td>\n",
       "      <td>53.169633</td>\n",
       "      <td>1.306901e+06</td>\n",
       "      <td>2374.200242</td>\n",
       "    </tr>\n",
       "    <tr>\n",
       "      <th>std</th>\n",
       "      <td>0.295503</td>\n",
       "      <td>35.131047</td>\n",
       "      <td>34.365941</td>\n",
       "      <td>34.960087</td>\n",
       "      <td>66.389095</td>\n",
       "      <td>22.036027</td>\n",
       "      <td>0.396842</td>\n",
       "      <td>0.816358</td>\n",
       "      <td>0.813605</td>\n",
       "      <td>0.820371</td>\n",
       "      <td>0.278935</td>\n",
       "      <td>0.356430</td>\n",
       "      <td>34.806516</td>\n",
       "      <td>34.367460</td>\n",
       "      <td>1.628483e+05</td>\n",
       "      <td>972.831482</td>\n",
       "    </tr>\n",
       "    <tr>\n",
       "      <th>min</th>\n",
       "      <td>0.000000</td>\n",
       "      <td>0.000288</td>\n",
       "      <td>0.000714</td>\n",
       "      <td>0.011985</td>\n",
       "      <td>0.012093</td>\n",
       "      <td>0.007765</td>\n",
       "      <td>0.000000</td>\n",
       "      <td>2.000000</td>\n",
       "      <td>2.000000</td>\n",
       "      <td>2.000000</td>\n",
       "      <td>0.000000</td>\n",
       "      <td>0.000000</td>\n",
       "      <td>3.000000</td>\n",
       "      <td>10.035601</td>\n",
       "      <td>6.250830e+05</td>\n",
       "      <td>30.000000</td>\n",
       "    </tr>\n",
       "    <tr>\n",
       "      <th>25%</th>\n",
       "      <td>0.000000</td>\n",
       "      <td>17.746333</td>\n",
       "      <td>14.876478</td>\n",
       "      <td>20.455767</td>\n",
       "      <td>47.177363</td>\n",
       "      <td>12.515697</td>\n",
       "      <td>0.000000</td>\n",
       "      <td>2.000000</td>\n",
       "      <td>2.000000</td>\n",
       "      <td>2.000000</td>\n",
       "      <td>0.000000</td>\n",
       "      <td>0.000000</td>\n",
       "      <td>90.000000</td>\n",
       "      <td>25.383901</td>\n",
       "      <td>1.208923e+06</td>\n",
       "      <td>1671.000000</td>\n",
       "    </tr>\n",
       "    <tr>\n",
       "      <th>50%</th>\n",
       "      <td>0.000000</td>\n",
       "      <td>37.969819</td>\n",
       "      <td>33.599468</td>\n",
       "      <td>41.463328</td>\n",
       "      <td>91.626909</td>\n",
       "      <td>25.352928</td>\n",
       "      <td>0.000000</td>\n",
       "      <td>3.000000</td>\n",
       "      <td>3.000000</td>\n",
       "      <td>3.000000</td>\n",
       "      <td>0.000000</td>\n",
       "      <td>0.000000</td>\n",
       "      <td>124.000000</td>\n",
       "      <td>44.084289</td>\n",
       "      <td>1.330423e+06</td>\n",
       "      <td>2371.000000</td>\n",
       "    </tr>\n",
       "    <tr>\n",
       "      <th>75%</th>\n",
       "      <td>0.000000</td>\n",
       "      <td>68.468817</td>\n",
       "      <td>63.844377</td>\n",
       "      <td>71.184760</td>\n",
       "      <td>146.311675</td>\n",
       "      <td>44.503404</td>\n",
       "      <td>0.000000</td>\n",
       "      <td>4.000000</td>\n",
       "      <td>4.000000</td>\n",
       "      <td>4.000000</td>\n",
       "      <td>0.000000</td>\n",
       "      <td>0.000000</td>\n",
       "      <td>144.000000</td>\n",
       "      <td>74.390126</td>\n",
       "      <td>1.425944e+06</td>\n",
       "      <td>3074.250000</td>\n",
       "    </tr>\n",
       "    <tr>\n",
       "      <th>max</th>\n",
       "      <td>1.000000</td>\n",
       "      <td>157.658673</td>\n",
       "      <td>156.893349</td>\n",
       "      <td>157.857240</td>\n",
       "      <td>297.334188</td>\n",
       "      <td>99.260600</td>\n",
       "      <td>1.000000</td>\n",
       "      <td>4.000000</td>\n",
       "      <td>4.000000</td>\n",
       "      <td>4.000000</td>\n",
       "      <td>1.000000</td>\n",
       "      <td>1.000000</td>\n",
       "      <td>160.000000</td>\n",
       "      <td>167.131365</td>\n",
       "      <td>1.747559e+06</td>\n",
       "      <td>4697.000000</td>\n",
       "    </tr>\n",
       "  </tbody>\n",
       "</table>\n",
       "</div>"
      ],
      "text/plain": [
       "             garden      dst_dock   dst_capital       dst_mkt     dst_tower  \\\n",
       "count  14515.000000  14859.000000  15669.000000  14146.000000  15956.000000   \n",
       "mean       0.096659     46.305520     42.674021     48.715817    101.110421   \n",
       "std        0.295503     35.131047     34.365941     34.960087     66.389095   \n",
       "min        0.000000      0.000288      0.000714      0.011985      0.012093   \n",
       "25%        0.000000     17.746333     14.876478     20.455767     47.177363   \n",
       "50%        0.000000     37.969819     33.599468     41.463328     91.626909   \n",
       "75%        0.000000     68.468817     63.844377     71.184760    146.311675   \n",
       "max        1.000000    157.658673    156.893349    157.857240    297.334188   \n",
       "\n",
       "          dst_river    renovation  dining_rooms      bedrooms     bathrooms  \\\n",
       "count  16500.000000  14871.000000  14862.000000  15851.000000  15536.000000   \n",
       "mean      30.288848      0.195817      3.001615      3.001514      3.007209   \n",
       "std       22.036027      0.396842      0.816358      0.813605      0.820371   \n",
       "min        0.007765      0.000000      2.000000      2.000000      2.000000   \n",
       "25%       12.515697      0.000000      2.000000      2.000000      2.000000   \n",
       "50%       25.352928      0.000000      3.000000      3.000000      3.000000   \n",
       "75%       44.503404      0.000000      4.000000      4.000000      4.000000   \n",
       "max       99.260600      1.000000      4.000000      4.000000      4.000000   \n",
       "\n",
       "         king_visit         curse  king_blessing    dst_knight         price  \\\n",
       "count  16500.000000  15502.000000   16500.000000  15669.000000  1.650000e+04   \n",
       "mean       0.085030      0.149336     115.142545     53.169633  1.306901e+06   \n",
       "std        0.278935      0.356430      34.806516     34.367460  1.628483e+05   \n",
       "min        0.000000      0.000000       3.000000     10.035601  6.250830e+05   \n",
       "25%        0.000000      0.000000      90.000000     25.383901  1.208923e+06   \n",
       "50%        0.000000      0.000000     124.000000     44.084289  1.330423e+06   \n",
       "75%        0.000000      0.000000     144.000000     74.390126  1.425944e+06   \n",
       "max        1.000000      1.000000     160.000000    167.131365  1.747559e+06   \n",
       "\n",
       "          house_age  \n",
       "count  16500.000000  \n",
       "mean    2374.200242  \n",
       "std      972.831482  \n",
       "min       30.000000  \n",
       "25%     1671.000000  \n",
       "50%     2371.000000  \n",
       "75%     3074.250000  \n",
       "max     4697.000000  "
      ]
     },
     "execution_count": 302,
     "metadata": {},
     "output_type": "execute_result"
    }
   ],
   "source": [
    "df.describe()"
   ]
  },
  {
   "cell_type": "code",
   "execution_count": 306,
   "metadata": {},
   "outputs": [],
   "source": [
    "#df['dst_dock']=df['dst_dock'].fillna(df['dst_dock'].mean())\n",
    "#df['dst_dock']=df['dst_dock'].fillna(df['dst_dock'].mean())\n",
    "#df['dst_dock']=df['dst_dock'].fillna(df['dst_dock'].mean())\n"
   ]
  },
  {
   "cell_type": "code",
   "execution_count": 373,
   "metadata": {},
   "outputs": [],
   "source": [
    "x=df['priced_year'].unique()"
   ]
  },
  {
   "cell_type": "code",
   "execution_count": 374,
   "metadata": {},
   "outputs": [
    {
     "data": {
      "text/plain": [
       "6"
      ]
     },
     "execution_count": 374,
     "metadata": {},
     "output_type": "execute_result"
    }
   ],
   "source": [
    "len(x)"
   ]
  },
  {
   "cell_type": "code",
   "execution_count": null,
   "metadata": {
    "collapsed": true
   },
   "outputs": [],
   "source": []
  },
  {
   "cell_type": "code",
   "execution_count": null,
   "metadata": {
    "collapsed": true
   },
   "outputs": [],
   "source": []
  },
  {
   "cell_type": "code",
   "execution_count": null,
   "metadata": {
    "collapsed": true
   },
   "outputs": [],
   "source": []
  },
  {
   "cell_type": "code",
   "execution_count": 287,
   "metadata": {},
   "outputs": [],
   "source": [
    "df['garden']=df['garden'].fillna(0)"
   ]
  },
  {
   "cell_type": "code",
   "execution_count": null,
   "metadata": {
    "collapsed": true
   },
   "outputs": [],
   "source": []
  },
  {
   "cell_type": "code",
   "execution_count": 274,
   "metadata": {},
   "outputs": [
    {
     "data": {
      "text/html": [
       "<div>\n",
       "<style>\n",
       "    .dataframe thead tr:only-child th {\n",
       "        text-align: right;\n",
       "    }\n",
       "\n",
       "    .dataframe thead th {\n",
       "        text-align: left;\n",
       "    }\n",
       "\n",
       "    .dataframe tbody tr th {\n",
       "        vertical-align: top;\n",
       "    }\n",
       "</style>\n",
       "<table border=\"1\" class=\"dataframe\">\n",
       "  <thead>\n",
       "    <tr style=\"text-align: right;\">\n",
       "      <th></th>\n",
       "      <th>garden</th>\n",
       "      <th>king_visit</th>\n",
       "    </tr>\n",
       "  </thead>\n",
       "  <tbody>\n",
       "    <tr>\n",
       "      <th>0</th>\n",
       "      <td>0.0</td>\n",
       "      <td>0</td>\n",
       "    </tr>\n",
       "    <tr>\n",
       "      <th>1</th>\n",
       "      <td>0.0</td>\n",
       "      <td>0</td>\n",
       "    </tr>\n",
       "    <tr>\n",
       "      <th>2</th>\n",
       "      <td>0.0</td>\n",
       "      <td>0</td>\n",
       "    </tr>\n",
       "    <tr>\n",
       "      <th>3</th>\n",
       "      <td>0.0</td>\n",
       "      <td>0</td>\n",
       "    </tr>\n",
       "    <tr>\n",
       "      <th>4</th>\n",
       "      <td>0.0</td>\n",
       "      <td>0</td>\n",
       "    </tr>\n",
       "    <tr>\n",
       "      <th>5</th>\n",
       "      <td>NaN</td>\n",
       "      <td>0</td>\n",
       "    </tr>\n",
       "    <tr>\n",
       "      <th>6</th>\n",
       "      <td>0.0</td>\n",
       "      <td>0</td>\n",
       "    </tr>\n",
       "    <tr>\n",
       "      <th>7</th>\n",
       "      <td>0.0</td>\n",
       "      <td>0</td>\n",
       "    </tr>\n",
       "    <tr>\n",
       "      <th>8</th>\n",
       "      <td>0.0</td>\n",
       "      <td>0</td>\n",
       "    </tr>\n",
       "    <tr>\n",
       "      <th>9</th>\n",
       "      <td>0.0</td>\n",
       "      <td>0</td>\n",
       "    </tr>\n",
       "    <tr>\n",
       "      <th>10</th>\n",
       "      <td>0.0</td>\n",
       "      <td>0</td>\n",
       "    </tr>\n",
       "    <tr>\n",
       "      <th>11</th>\n",
       "      <td>0.0</td>\n",
       "      <td>0</td>\n",
       "    </tr>\n",
       "    <tr>\n",
       "      <th>12</th>\n",
       "      <td>0.0</td>\n",
       "      <td>0</td>\n",
       "    </tr>\n",
       "    <tr>\n",
       "      <th>13</th>\n",
       "      <td>1.0</td>\n",
       "      <td>1</td>\n",
       "    </tr>\n",
       "    <tr>\n",
       "      <th>14</th>\n",
       "      <td>0.0</td>\n",
       "      <td>0</td>\n",
       "    </tr>\n",
       "    <tr>\n",
       "      <th>15</th>\n",
       "      <td>0.0</td>\n",
       "      <td>0</td>\n",
       "    </tr>\n",
       "    <tr>\n",
       "      <th>16</th>\n",
       "      <td>0.0</td>\n",
       "      <td>0</td>\n",
       "    </tr>\n",
       "    <tr>\n",
       "      <th>17</th>\n",
       "      <td>1.0</td>\n",
       "      <td>1</td>\n",
       "    </tr>\n",
       "    <tr>\n",
       "      <th>18</th>\n",
       "      <td>0.0</td>\n",
       "      <td>0</td>\n",
       "    </tr>\n",
       "    <tr>\n",
       "      <th>19</th>\n",
       "      <td>0.0</td>\n",
       "      <td>0</td>\n",
       "    </tr>\n",
       "  </tbody>\n",
       "</table>\n",
       "</div>"
      ],
      "text/plain": [
       "    garden  king_visit\n",
       "0      0.0           0\n",
       "1      0.0           0\n",
       "2      0.0           0\n",
       "3      0.0           0\n",
       "4      0.0           0\n",
       "5      NaN           0\n",
       "6      0.0           0\n",
       "7      0.0           0\n",
       "8      0.0           0\n",
       "9      0.0           0\n",
       "10     0.0           0\n",
       "11     0.0           0\n",
       "12     0.0           0\n",
       "13     1.0           1\n",
       "14     0.0           0\n",
       "15     0.0           0\n",
       "16     0.0           0\n",
       "17     1.0           1\n",
       "18     0.0           0\n",
       "19     0.0           0"
      ]
     },
     "execution_count": 274,
     "metadata": {},
     "output_type": "execute_result"
    }
   ],
   "source": [
    "df[['garden','king_visit']].head(n=20)"
   ]
  },
  {
   "cell_type": "code",
   "execution_count": 293,
   "metadata": {},
   "outputs": [],
   "source": []
  },
  {
   "cell_type": "code",
   "execution_count": 295,
   "metadata": {},
   "outputs": [
    {
     "data": {
      "text/html": [
       "<div>\n",
       "<style>\n",
       "    .dataframe thead tr:only-child th {\n",
       "        text-align: right;\n",
       "    }\n",
       "\n",
       "    .dataframe thead th {\n",
       "        text-align: left;\n",
       "    }\n",
       "\n",
       "    .dataframe tbody tr th {\n",
       "        vertical-align: top;\n",
       "    }\n",
       "</style>\n",
       "<table border=\"1\" class=\"dataframe\">\n",
       "  <thead>\n",
       "    <tr style=\"text-align: right;\">\n",
       "      <th></th>\n",
       "      <th>house_id</th>\n",
       "      <th>buid_date</th>\n",
       "      <th>date_priced</th>\n",
       "      <th>garden</th>\n",
       "      <th>dst_dock</th>\n",
       "      <th>dst_capital</th>\n",
       "      <th>dst_mkt</th>\n",
       "      <th>dst_tower</th>\n",
       "      <th>dst_river</th>\n",
       "      <th>renovation</th>\n",
       "      <th>...</th>\n",
       "      <th>king_visit</th>\n",
       "      <th>curse</th>\n",
       "      <th>king_blessing</th>\n",
       "      <th>farm_land</th>\n",
       "      <th>locations</th>\n",
       "      <th>holy_tree</th>\n",
       "      <th>dst_knight</th>\n",
       "      <th>builder</th>\n",
       "      <th>price</th>\n",
       "      <th>house_age</th>\n",
       "    </tr>\n",
       "  </thead>\n",
       "  <tbody>\n",
       "  </tbody>\n",
       "</table>\n",
       "<p>0 rows × 23 columns</p>\n",
       "</div>"
      ],
      "text/plain": [
       "Empty DataFrame\n",
       "Columns: [house_id, buid_date, date_priced, garden, dst_dock, dst_capital, dst_mkt, dst_tower, dst_river, renovation, dining_rooms, bedrooms, bathrooms, king_visit, curse, king_blessing, farm_land, locations, holy_tree, dst_knight, builder, price, house_age]\n",
       "Index: []\n",
       "\n",
       "[0 rows x 23 columns]"
      ]
     },
     "execution_count": 295,
     "metadata": {},
     "output_type": "execute_result"
    }
   ],
   "source": []
  },
  {
   "cell_type": "code",
   "execution_count": null,
   "metadata": {
    "collapsed": true
   },
   "outputs": [],
   "source": []
  },
  {
   "cell_type": "code",
   "execution_count": null,
   "metadata": {
    "collapsed": true
   },
   "outputs": [],
   "source": []
  },
  {
   "cell_type": "code",
   "execution_count": null,
   "metadata": {
    "collapsed": true
   },
   "outputs": [],
   "source": []
  },
  {
   "cell_type": "code",
   "execution_count": null,
   "metadata": {
    "collapsed": true
   },
   "outputs": [],
   "source": []
  },
  {
   "cell_type": "code",
   "execution_count": null,
   "metadata": {
    "collapsed": true
   },
   "outputs": [],
   "source": []
  },
  {
   "cell_type": "code",
   "execution_count": null,
   "metadata": {
    "collapsed": true
   },
   "outputs": [],
   "source": []
  },
  {
   "cell_type": "code",
   "execution_count": null,
   "metadata": {
    "collapsed": true
   },
   "outputs": [],
   "source": []
  },
  {
   "cell_type": "code",
   "execution_count": null,
   "metadata": {
    "collapsed": true
   },
   "outputs": [],
   "source": []
  },
  {
   "cell_type": "code",
   "execution_count": null,
   "metadata": {
    "collapsed": true
   },
   "outputs": [],
   "source": []
  },
  {
   "cell_type": "code",
   "execution_count": null,
   "metadata": {
    "collapsed": true
   },
   "outputs": [],
   "source": []
  },
  {
   "cell_type": "code",
   "execution_count": null,
   "metadata": {
    "collapsed": true
   },
   "outputs": [],
   "source": []
  },
  {
   "cell_type": "code",
   "execution_count": null,
   "metadata": {
    "collapsed": true
   },
   "outputs": [],
   "source": []
  },
  {
   "cell_type": "code",
   "execution_count": null,
   "metadata": {
    "collapsed": true
   },
   "outputs": [],
   "source": []
  },
  {
   "cell_type": "code",
   "execution_count": null,
   "metadata": {
    "collapsed": true
   },
   "outputs": [],
   "source": []
  },
  {
   "cell_type": "code",
   "execution_count": null,
   "metadata": {
    "collapsed": true
   },
   "outputs": [],
   "source": []
  },
  {
   "cell_type": "code",
   "execution_count": null,
   "metadata": {
    "collapsed": true
   },
   "outputs": [],
   "source": []
  },
  {
   "cell_type": "code",
   "execution_count": 160,
   "metadata": {},
   "outputs": [
    {
     "data": {
      "text/html": [
       "<div>\n",
       "<style>\n",
       "    .dataframe thead tr:only-child th {\n",
       "        text-align: right;\n",
       "    }\n",
       "\n",
       "    .dataframe thead th {\n",
       "        text-align: left;\n",
       "    }\n",
       "\n",
       "    .dataframe tbody tr th {\n",
       "        vertical-align: top;\n",
       "    }\n",
       "</style>\n",
       "<table border=\"1\" class=\"dataframe\">\n",
       "  <thead>\n",
       "    <tr style=\"text-align: right;\">\n",
       "      <th></th>\n",
       "      <th>garden</th>\n",
       "      <th>dst_dock</th>\n",
       "      <th>dst_capital</th>\n",
       "      <th>dst_mkt</th>\n",
       "      <th>dst_tower</th>\n",
       "      <th>dst_river</th>\n",
       "      <th>renovation</th>\n",
       "      <th>dining_rooms</th>\n",
       "      <th>bedrooms</th>\n",
       "      <th>bathrooms</th>\n",
       "      <th>king_visit</th>\n",
       "      <th>curse</th>\n",
       "      <th>king_blessing</th>\n",
       "      <th>dst_knight</th>\n",
       "      <th>price</th>\n",
       "    </tr>\n",
       "  </thead>\n",
       "  <tbody>\n",
       "    <tr>\n",
       "      <th>count</th>\n",
       "      <td>14515.000000</td>\n",
       "      <td>14859.000000</td>\n",
       "      <td>15669.000000</td>\n",
       "      <td>14146.000000</td>\n",
       "      <td>15956.000000</td>\n",
       "      <td>16500.000000</td>\n",
       "      <td>14871.000000</td>\n",
       "      <td>14862.000000</td>\n",
       "      <td>15851.000000</td>\n",
       "      <td>15536.000000</td>\n",
       "      <td>16500.000000</td>\n",
       "      <td>15502.000000</td>\n",
       "      <td>16500.000000</td>\n",
       "      <td>15669.000000</td>\n",
       "      <td>1.650000e+04</td>\n",
       "    </tr>\n",
       "    <tr>\n",
       "      <th>mean</th>\n",
       "      <td>0.096659</td>\n",
       "      <td>46.305520</td>\n",
       "      <td>42.674021</td>\n",
       "      <td>48.715817</td>\n",
       "      <td>101.110421</td>\n",
       "      <td>30.288848</td>\n",
       "      <td>0.195817</td>\n",
       "      <td>3.001615</td>\n",
       "      <td>3.001514</td>\n",
       "      <td>3.007209</td>\n",
       "      <td>0.085030</td>\n",
       "      <td>0.149336</td>\n",
       "      <td>115.142545</td>\n",
       "      <td>53.169633</td>\n",
       "      <td>1.306901e+06</td>\n",
       "    </tr>\n",
       "    <tr>\n",
       "      <th>std</th>\n",
       "      <td>0.295503</td>\n",
       "      <td>35.131047</td>\n",
       "      <td>34.365941</td>\n",
       "      <td>34.960087</td>\n",
       "      <td>66.389095</td>\n",
       "      <td>22.036027</td>\n",
       "      <td>0.396842</td>\n",
       "      <td>0.816358</td>\n",
       "      <td>0.813605</td>\n",
       "      <td>0.820371</td>\n",
       "      <td>0.278935</td>\n",
       "      <td>0.356430</td>\n",
       "      <td>34.806516</td>\n",
       "      <td>34.367460</td>\n",
       "      <td>1.628483e+05</td>\n",
       "    </tr>\n",
       "    <tr>\n",
       "      <th>min</th>\n",
       "      <td>0.000000</td>\n",
       "      <td>0.000288</td>\n",
       "      <td>0.000714</td>\n",
       "      <td>0.011985</td>\n",
       "      <td>0.012093</td>\n",
       "      <td>0.007765</td>\n",
       "      <td>0.000000</td>\n",
       "      <td>2.000000</td>\n",
       "      <td>2.000000</td>\n",
       "      <td>2.000000</td>\n",
       "      <td>0.000000</td>\n",
       "      <td>0.000000</td>\n",
       "      <td>3.000000</td>\n",
       "      <td>10.035601</td>\n",
       "      <td>6.250830e+05</td>\n",
       "    </tr>\n",
       "    <tr>\n",
       "      <th>25%</th>\n",
       "      <td>0.000000</td>\n",
       "      <td>17.746333</td>\n",
       "      <td>14.876478</td>\n",
       "      <td>20.455767</td>\n",
       "      <td>47.177363</td>\n",
       "      <td>12.515697</td>\n",
       "      <td>0.000000</td>\n",
       "      <td>2.000000</td>\n",
       "      <td>2.000000</td>\n",
       "      <td>2.000000</td>\n",
       "      <td>0.000000</td>\n",
       "      <td>0.000000</td>\n",
       "      <td>90.000000</td>\n",
       "      <td>25.383901</td>\n",
       "      <td>1.208923e+06</td>\n",
       "    </tr>\n",
       "    <tr>\n",
       "      <th>50%</th>\n",
       "      <td>0.000000</td>\n",
       "      <td>37.969819</td>\n",
       "      <td>33.599468</td>\n",
       "      <td>41.463328</td>\n",
       "      <td>91.626909</td>\n",
       "      <td>25.352928</td>\n",
       "      <td>0.000000</td>\n",
       "      <td>3.000000</td>\n",
       "      <td>3.000000</td>\n",
       "      <td>3.000000</td>\n",
       "      <td>0.000000</td>\n",
       "      <td>0.000000</td>\n",
       "      <td>124.000000</td>\n",
       "      <td>44.084289</td>\n",
       "      <td>1.330423e+06</td>\n",
       "    </tr>\n",
       "    <tr>\n",
       "      <th>75%</th>\n",
       "      <td>0.000000</td>\n",
       "      <td>68.468817</td>\n",
       "      <td>63.844377</td>\n",
       "      <td>71.184760</td>\n",
       "      <td>146.311675</td>\n",
       "      <td>44.503404</td>\n",
       "      <td>0.000000</td>\n",
       "      <td>4.000000</td>\n",
       "      <td>4.000000</td>\n",
       "      <td>4.000000</td>\n",
       "      <td>0.000000</td>\n",
       "      <td>0.000000</td>\n",
       "      <td>144.000000</td>\n",
       "      <td>74.390126</td>\n",
       "      <td>1.425944e+06</td>\n",
       "    </tr>\n",
       "    <tr>\n",
       "      <th>max</th>\n",
       "      <td>1.000000</td>\n",
       "      <td>157.658673</td>\n",
       "      <td>156.893349</td>\n",
       "      <td>157.857240</td>\n",
       "      <td>297.334188</td>\n",
       "      <td>99.260600</td>\n",
       "      <td>1.000000</td>\n",
       "      <td>4.000000</td>\n",
       "      <td>4.000000</td>\n",
       "      <td>4.000000</td>\n",
       "      <td>1.000000</td>\n",
       "      <td>1.000000</td>\n",
       "      <td>160.000000</td>\n",
       "      <td>167.131365</td>\n",
       "      <td>1.747559e+06</td>\n",
       "    </tr>\n",
       "  </tbody>\n",
       "</table>\n",
       "</div>"
      ],
      "text/plain": [
       "             garden      dst_dock   dst_capital       dst_mkt     dst_tower  \\\n",
       "count  14515.000000  14859.000000  15669.000000  14146.000000  15956.000000   \n",
       "mean       0.096659     46.305520     42.674021     48.715817    101.110421   \n",
       "std        0.295503     35.131047     34.365941     34.960087     66.389095   \n",
       "min        0.000000      0.000288      0.000714      0.011985      0.012093   \n",
       "25%        0.000000     17.746333     14.876478     20.455767     47.177363   \n",
       "50%        0.000000     37.969819     33.599468     41.463328     91.626909   \n",
       "75%        0.000000     68.468817     63.844377     71.184760    146.311675   \n",
       "max        1.000000    157.658673    156.893349    157.857240    297.334188   \n",
       "\n",
       "          dst_river    renovation  dining_rooms      bedrooms     bathrooms  \\\n",
       "count  16500.000000  14871.000000  14862.000000  15851.000000  15536.000000   \n",
       "mean      30.288848      0.195817      3.001615      3.001514      3.007209   \n",
       "std       22.036027      0.396842      0.816358      0.813605      0.820371   \n",
       "min        0.007765      0.000000      2.000000      2.000000      2.000000   \n",
       "25%       12.515697      0.000000      2.000000      2.000000      2.000000   \n",
       "50%       25.352928      0.000000      3.000000      3.000000      3.000000   \n",
       "75%       44.503404      0.000000      4.000000      4.000000      4.000000   \n",
       "max       99.260600      1.000000      4.000000      4.000000      4.000000   \n",
       "\n",
       "         king_visit         curse  king_blessing    dst_knight         price  \n",
       "count  16500.000000  15502.000000   16500.000000  15669.000000  1.650000e+04  \n",
       "mean       0.085030      0.149336     115.142545     53.169633  1.306901e+06  \n",
       "std        0.278935      0.356430      34.806516     34.367460  1.628483e+05  \n",
       "min        0.000000      0.000000       3.000000     10.035601  6.250830e+05  \n",
       "25%        0.000000      0.000000      90.000000     25.383901  1.208923e+06  \n",
       "50%        0.000000      0.000000     124.000000     44.084289  1.330423e+06  \n",
       "75%        0.000000      0.000000     144.000000     74.390126  1.425944e+06  \n",
       "max        1.000000      1.000000     160.000000    167.131365  1.747559e+06  "
      ]
     },
     "execution_count": 160,
     "metadata": {},
     "output_type": "execute_result"
    }
   ],
   "source": [
    "df.describe()"
   ]
  },
  {
   "cell_type": "code",
   "execution_count": null,
   "metadata": {
    "collapsed": true
   },
   "outputs": [],
   "source": []
  },
  {
   "cell_type": "code",
   "execution_count": 161,
   "metadata": {
    "collapsed": true
   },
   "outputs": [],
   "source": [
    "c=df.corr()"
   ]
  },
  {
   "cell_type": "code",
   "execution_count": 162,
   "metadata": {},
   "outputs": [
    {
     "data": {
      "text/plain": [
       "<matplotlib.axes._subplots.AxesSubplot at 0x23e9eaf7eb8>"
      ]
     },
     "execution_count": 162,
     "metadata": {},
     "output_type": "execute_result"
    },
    {
     "data": {
      "image/png": "[encoded data removed]",
      "text/plain": [
       "<matplotlib.figure.Figure at 0x23e9e9b86a0>"
      ]
     },
     "metadata": {},
     "output_type": "display_data"
    }
   ],
   "source": [
    "plt.figure(figsize=[18,8])\n",
    "sns.heatmap(c,annot=True,cmap=\"Blues\")"
   ]
  },
  {
   "cell_type": "code",
   "execution_count": 163,
   "metadata": {},
   "outputs": [
    {
     "data": {
      "text/plain": [
       "<matplotlib.axes._subplots.AxesSubplot at 0x23e9f6a29b0>"
      ]
     },
     "execution_count": 163,
     "metadata": {},
     "output_type": "execute_result"
    },
    {
     "data": {
      "image/png": "[encoded data removed]",
      "text/plain": [
       "<matplotlib.figure.Figure at 0x23e9f696cc0>"
      ]
     },
     "metadata": {},
     "output_type": "display_data"
    }
   ],
   "source": [
    "sns.distplot(df['price'],)"
   ]
  },
  {
   "cell_type": "code",
   "execution_count": 164,
   "metadata": {},
   "outputs": [
    {
     "data": {
      "text/html": [
       "<div>\n",
       "<style>\n",
       "    .dataframe thead tr:only-child th {\n",
       "        text-align: right;\n",
       "    }\n",
       "\n",
       "    .dataframe thead th {\n",
       "        text-align: left;\n",
       "    }\n",
       "\n",
       "    .dataframe tbody tr th {\n",
       "        vertical-align: top;\n",
       "    }\n",
       "</style>\n",
       "<table border=\"1\" class=\"dataframe\">\n",
       "  <thead>\n",
       "    <tr style=\"text-align: right;\">\n",
       "      <th></th>\n",
       "      <th>house_id</th>\n",
       "      <th>buid_date</th>\n",
       "      <th>date_priced</th>\n",
       "      <th>garden</th>\n",
       "      <th>dst_dock</th>\n",
       "      <th>dst_capital</th>\n",
       "      <th>dst_mkt</th>\n",
       "      <th>dst_tower</th>\n",
       "      <th>dst_river</th>\n",
       "      <th>renovation</th>\n",
       "      <th>...</th>\n",
       "      <th>bathrooms</th>\n",
       "      <th>king_visit</th>\n",
       "      <th>curse</th>\n",
       "      <th>king_blessing</th>\n",
       "      <th>farm_land</th>\n",
       "      <th>locations</th>\n",
       "      <th>holy_tree</th>\n",
       "      <th>dst_knight</th>\n",
       "      <th>builder</th>\n",
       "      <th>price</th>\n",
       "    </tr>\n",
       "  </thead>\n",
       "  <tbody>\n",
       "    <tr>\n",
       "      <th>0</th>\n",
       "      <td>6e32cec0</td>\n",
       "      <td>4/21/1602 12:41 AM</td>\n",
       "      <td>7/9/1609 1:11 AM</td>\n",
       "      <td>0.0</td>\n",
       "      <td>138.600639</td>\n",
       "      <td>0.256239</td>\n",
       "      <td>69.486467</td>\n",
       "      <td>14.394903</td>\n",
       "      <td>63.109038</td>\n",
       "      <td>0.0</td>\n",
       "      <td>...</td>\n",
       "      <td>NaN</td>\n",
       "      <td>0</td>\n",
       "      <td>0.0</td>\n",
       "      <td>160</td>\n",
       "      <td>small</td>\n",
       "      <td>King's Landing</td>\n",
       "      <td>yes</td>\n",
       "      <td>10.505662</td>\n",
       "      <td>data/Bob</td>\n",
       "      <td>1470912.0</td>\n",
       "    </tr>\n",
       "    <tr>\n",
       "      <th>1</th>\n",
       "      <td>6e32ceda</td>\n",
       "      <td>10/23/1603 11:14 PM</td>\n",
       "      <td>10/21/1611 7:40 AM</td>\n",
       "      <td>0.0</td>\n",
       "      <td>10.998322</td>\n",
       "      <td>122.930753</td>\n",
       "      <td>63.794375</td>\n",
       "      <td>53.019891</td>\n",
       "      <td>17.045949</td>\n",
       "      <td>0.0</td>\n",
       "      <td>...</td>\n",
       "      <td>3.0</td>\n",
       "      <td>0</td>\n",
       "      <td>0.0</td>\n",
       "      <td>37</td>\n",
       "      <td>huge</td>\n",
       "      <td>The Mountains</td>\n",
       "      <td>yes</td>\n",
       "      <td>132.934312</td>\n",
       "      <td>data/Bob</td>\n",
       "      <td>1052137.0</td>\n",
       "    </tr>\n",
       "    <tr>\n",
       "      <th>2</th>\n",
       "      <td>6e32cf09</td>\n",
       "      <td>3/18/1603 3:53 AM</td>\n",
       "      <td>5/17/1610 9:36 PM</td>\n",
       "      <td>0.0</td>\n",
       "      <td>52.819705</td>\n",
       "      <td>80.970959</td>\n",
       "      <td>96.656914</td>\n",
       "      <td>70.965631</td>\n",
       "      <td>6.548119</td>\n",
       "      <td>0.0</td>\n",
       "      <td>...</td>\n",
       "      <td>3.0</td>\n",
       "      <td>0</td>\n",
       "      <td>0.0</td>\n",
       "      <td>79</td>\n",
       "      <td>small</td>\n",
       "      <td>Cursed Land</td>\n",
       "      <td>yes</td>\n",
       "      <td>91.425357</td>\n",
       "      <td>data/Bob</td>\n",
       "      <td>1017577.0</td>\n",
       "    </tr>\n",
       "    <tr>\n",
       "      <th>3</th>\n",
       "      <td>6e32cfa9</td>\n",
       "      <td>8/18/1606 12:23 AM</td>\n",
       "      <td>1/20/1608 10:45 AM</td>\n",
       "      <td>0.0</td>\n",
       "      <td>82.283966</td>\n",
       "      <td>4.331436</td>\n",
       "      <td>29.043012</td>\n",
       "      <td>119.126593</td>\n",
       "      <td>24.298255</td>\n",
       "      <td>0.0</td>\n",
       "      <td>...</td>\n",
       "      <td>3.0</td>\n",
       "      <td>0</td>\n",
       "      <td>1.0</td>\n",
       "      <td>156</td>\n",
       "      <td>small</td>\n",
       "      <td>Cursed Land</td>\n",
       "      <td>no</td>\n",
       "      <td>14.695102</td>\n",
       "      <td>data/Bob</td>\n",
       "      <td>1409057.0</td>\n",
       "    </tr>\n",
       "    <tr>\n",
       "      <th>4</th>\n",
       "      <td>6e32cfb7</td>\n",
       "      <td>9/11/1603 11:53 AM</td>\n",
       "      <td>5/20/1611 4:49 PM</td>\n",
       "      <td>0.0</td>\n",
       "      <td>34.524141</td>\n",
       "      <td>NaN</td>\n",
       "      <td>6.740951</td>\n",
       "      <td>222.341302</td>\n",
       "      <td>1.821655</td>\n",
       "      <td>0.0</td>\n",
       "      <td>...</td>\n",
       "      <td>4.0</td>\n",
       "      <td>0</td>\n",
       "      <td>0.0</td>\n",
       "      <td>74</td>\n",
       "      <td>small</td>\n",
       "      <td>The Mountains</td>\n",
       "      <td>yes</td>\n",
       "      <td>NaN</td>\n",
       "      <td>data/Bob</td>\n",
       "      <td>1317434.0</td>\n",
       "    </tr>\n",
       "  </tbody>\n",
       "</table>\n",
       "<p>5 rows × 22 columns</p>\n",
       "</div>"
      ],
      "text/plain": [
       "   house_id            buid_date         date_priced  garden    dst_dock  \\\n",
       "0  6e32cec0   4/21/1602 12:41 AM    7/9/1609 1:11 AM     0.0  138.600639   \n",
       "1  6e32ceda  10/23/1603 11:14 PM  10/21/1611 7:40 AM     0.0   10.998322   \n",
       "2  6e32cf09    3/18/1603 3:53 AM   5/17/1610 9:36 PM     0.0   52.819705   \n",
       "3  6e32cfa9   8/18/1606 12:23 AM  1/20/1608 10:45 AM     0.0   82.283966   \n",
       "4  6e32cfb7   9/11/1603 11:53 AM   5/20/1611 4:49 PM     0.0   34.524141   \n",
       "\n",
       "   dst_capital    dst_mkt   dst_tower  dst_river  renovation    ...      \\\n",
       "0     0.256239  69.486467   14.394903  63.109038         0.0    ...       \n",
       "1   122.930753  63.794375   53.019891  17.045949         0.0    ...       \n",
       "2    80.970959  96.656914   70.965631   6.548119         0.0    ...       \n",
       "3     4.331436  29.043012  119.126593  24.298255         0.0    ...       \n",
       "4          NaN   6.740951  222.341302   1.821655         0.0    ...       \n",
       "\n",
       "   bathrooms  king_visit  curse  king_blessing  farm_land       locations  \\\n",
       "0        NaN           0    0.0            160      small  King's Landing   \n",
       "1        3.0           0    0.0             37       huge   The Mountains   \n",
       "2        3.0           0    0.0             79      small     Cursed Land   \n",
       "3        3.0           0    1.0            156      small     Cursed Land   \n",
       "4        4.0           0    0.0             74      small   The Mountains   \n",
       "\n",
       "  holy_tree  dst_knight   builder      price  \n",
       "0       yes   10.505662  data/Bob  1470912.0  \n",
       "1       yes  132.934312  data/Bob  1052137.0  \n",
       "2       yes   91.425357  data/Bob  1017577.0  \n",
       "3        no   14.695102  data/Bob  1409057.0  \n",
       "4       yes         NaN  data/Bob  1317434.0  \n",
       "\n",
       "[5 rows x 22 columns]"
      ]
     },
     "execution_count": 164,
     "metadata": {},
     "output_type": "execute_result"
    }
   ],
   "source": [
    "df.head()"
   ]
  },
  {
   "cell_type": "code",
   "execution_count": 11,
   "metadata": {},
   "outputs": [
    {
     "data": {
      "text/html": [
       "<div>\n",
       "<style>\n",
       "    .dataframe thead tr:only-child th {\n",
       "        text-align: right;\n",
       "    }\n",
       "\n",
       "    .dataframe thead th {\n",
       "        text-align: left;\n",
       "    }\n",
       "\n",
       "    .dataframe tbody tr th {\n",
       "        vertical-align: top;\n",
       "    }\n",
       "</style>\n",
       "<table border=\"1\" class=\"dataframe\">\n",
       "  <thead>\n",
       "    <tr style=\"text-align: right;\">\n",
       "      <th></th>\n",
       "      <th>garden</th>\n",
       "      <th>dst_dock</th>\n",
       "      <th>dst_capital</th>\n",
       "      <th>dst_mkt</th>\n",
       "      <th>dst_tower</th>\n",
       "      <th>dst_river</th>\n",
       "      <th>renovation</th>\n",
       "      <th>dining_rooms</th>\n",
       "      <th>bedrooms</th>\n",
       "      <th>bathrooms</th>\n",
       "      <th>king_visit</th>\n",
       "      <th>curse</th>\n",
       "      <th>king_blessing</th>\n",
       "      <th>dst_knight</th>\n",
       "      <th>price</th>\n",
       "    </tr>\n",
       "  </thead>\n",
       "  <tbody>\n",
       "    <tr>\n",
       "      <th>count</th>\n",
       "      <td>14515.000000</td>\n",
       "      <td>14859.000000</td>\n",
       "      <td>15669.000000</td>\n",
       "      <td>14146.000000</td>\n",
       "      <td>15956.000000</td>\n",
       "      <td>16500.000000</td>\n",
       "      <td>14871.000000</td>\n",
       "      <td>14862.000000</td>\n",
       "      <td>15851.000000</td>\n",
       "      <td>15536.000000</td>\n",
       "      <td>15097.0</td>\n",
       "      <td>15502.000000</td>\n",
       "      <td>16500.000000</td>\n",
       "      <td>15669.000000</td>\n",
       "      <td>1.650000e+04</td>\n",
       "    </tr>\n",
       "    <tr>\n",
       "      <th>mean</th>\n",
       "      <td>0.096659</td>\n",
       "      <td>46.305520</td>\n",
       "      <td>42.674021</td>\n",
       "      <td>48.715817</td>\n",
       "      <td>101.110421</td>\n",
       "      <td>30.288848</td>\n",
       "      <td>0.195817</td>\n",
       "      <td>3.001615</td>\n",
       "      <td>3.001514</td>\n",
       "      <td>3.007209</td>\n",
       "      <td>0.0</td>\n",
       "      <td>0.149336</td>\n",
       "      <td>115.142545</td>\n",
       "      <td>53.169633</td>\n",
       "      <td>1.306901e+06</td>\n",
       "    </tr>\n",
       "    <tr>\n",
       "      <th>std</th>\n",
       "      <td>0.295503</td>\n",
       "      <td>35.131047</td>\n",
       "      <td>34.365941</td>\n",
       "      <td>34.960087</td>\n",
       "      <td>66.389095</td>\n",
       "      <td>22.036027</td>\n",
       "      <td>0.396842</td>\n",
       "      <td>0.816358</td>\n",
       "      <td>0.813605</td>\n",
       "      <td>0.820371</td>\n",
       "      <td>0.0</td>\n",
       "      <td>0.356430</td>\n",
       "      <td>34.806516</td>\n",
       "      <td>34.367460</td>\n",
       "      <td>1.628483e+05</td>\n",
       "    </tr>\n",
       "    <tr>\n",
       "      <th>min</th>\n",
       "      <td>0.000000</td>\n",
       "      <td>0.000288</td>\n",
       "      <td>0.000714</td>\n",
       "      <td>0.011985</td>\n",
       "      <td>0.012093</td>\n",
       "      <td>0.007765</td>\n",
       "      <td>0.000000</td>\n",
       "      <td>2.000000</td>\n",
       "      <td>2.000000</td>\n",
       "      <td>2.000000</td>\n",
       "      <td>0.0</td>\n",
       "      <td>0.000000</td>\n",
       "      <td>3.000000</td>\n",
       "      <td>10.035601</td>\n",
       "      <td>6.250830e+05</td>\n",
       "    </tr>\n",
       "    <tr>\n",
       "      <th>25%</th>\n",
       "      <td>0.000000</td>\n",
       "      <td>17.746333</td>\n",
       "      <td>14.876478</td>\n",
       "      <td>20.455767</td>\n",
       "      <td>47.177363</td>\n",
       "      <td>12.515697</td>\n",
       "      <td>0.000000</td>\n",
       "      <td>2.000000</td>\n",
       "      <td>2.000000</td>\n",
       "      <td>2.000000</td>\n",
       "      <td>0.0</td>\n",
       "      <td>0.000000</td>\n",
       "      <td>90.000000</td>\n",
       "      <td>25.383901</td>\n",
       "      <td>1.208923e+06</td>\n",
       "    </tr>\n",
       "    <tr>\n",
       "      <th>50%</th>\n",
       "      <td>0.000000</td>\n",
       "      <td>37.969819</td>\n",
       "      <td>33.599468</td>\n",
       "      <td>41.463328</td>\n",
       "      <td>91.626909</td>\n",
       "      <td>25.352928</td>\n",
       "      <td>0.000000</td>\n",
       "      <td>3.000000</td>\n",
       "      <td>3.000000</td>\n",
       "      <td>3.000000</td>\n",
       "      <td>0.0</td>\n",
       "      <td>0.000000</td>\n",
       "      <td>124.000000</td>\n",
       "      <td>44.084289</td>\n",
       "      <td>1.330423e+06</td>\n",
       "    </tr>\n",
       "    <tr>\n",
       "      <th>75%</th>\n",
       "      <td>0.000000</td>\n",
       "      <td>68.468817</td>\n",
       "      <td>63.844377</td>\n",
       "      <td>71.184760</td>\n",
       "      <td>146.311675</td>\n",
       "      <td>44.503404</td>\n",
       "      <td>0.000000</td>\n",
       "      <td>4.000000</td>\n",
       "      <td>4.000000</td>\n",
       "      <td>4.000000</td>\n",
       "      <td>0.0</td>\n",
       "      <td>0.000000</td>\n",
       "      <td>144.000000</td>\n",
       "      <td>74.390126</td>\n",
       "      <td>1.425944e+06</td>\n",
       "    </tr>\n",
       "    <tr>\n",
       "      <th>max</th>\n",
       "      <td>1.000000</td>\n",
       "      <td>157.658673</td>\n",
       "      <td>156.893349</td>\n",
       "      <td>157.857240</td>\n",
       "      <td>297.334188</td>\n",
       "      <td>99.260600</td>\n",
       "      <td>1.000000</td>\n",
       "      <td>4.000000</td>\n",
       "      <td>4.000000</td>\n",
       "      <td>4.000000</td>\n",
       "      <td>0.0</td>\n",
       "      <td>1.000000</td>\n",
       "      <td>160.000000</td>\n",
       "      <td>167.131365</td>\n",
       "      <td>1.747559e+06</td>\n",
       "    </tr>\n",
       "  </tbody>\n",
       "</table>\n",
       "</div>"
      ],
      "text/plain": [
       "             garden      dst_dock   dst_capital       dst_mkt     dst_tower  \\\n",
       "count  14515.000000  14859.000000  15669.000000  14146.000000  15956.000000   \n",
       "mean       0.096659     46.305520     42.674021     48.715817    101.110421   \n",
       "std        0.295503     35.131047     34.365941     34.960087     66.389095   \n",
       "min        0.000000      0.000288      0.000714      0.011985      0.012093   \n",
       "25%        0.000000     17.746333     14.876478     20.455767     47.177363   \n",
       "50%        0.000000     37.969819     33.599468     41.463328     91.626909   \n",
       "75%        0.000000     68.468817     63.844377     71.184760    146.311675   \n",
       "max        1.000000    157.658673    156.893349    157.857240    297.334188   \n",
       "\n",
       "          dst_river    renovation  dining_rooms      bedrooms     bathrooms  \\\n",
       "count  16500.000000  14871.000000  14862.000000  15851.000000  15536.000000   \n",
       "mean      30.288848      0.195817      3.001615      3.001514      3.007209   \n",
       "std       22.036027      0.396842      0.816358      0.813605      0.820371   \n",
       "min        0.007765      0.000000      2.000000      2.000000      2.000000   \n",
       "25%       12.515697      0.000000      2.000000      2.000000      2.000000   \n",
       "50%       25.352928      0.000000      3.000000      3.000000      3.000000   \n",
       "75%       44.503404      0.000000      4.000000      4.000000      4.000000   \n",
       "max       99.260600      1.000000      4.000000      4.000000      4.000000   \n",
       "\n",
       "       king_visit         curse  king_blessing    dst_knight         price  \n",
       "count     15097.0  15502.000000   16500.000000  15669.000000  1.650000e+04  \n",
       "mean          0.0      0.149336     115.142545     53.169633  1.306901e+06  \n",
       "std           0.0      0.356430      34.806516     34.367460  1.628483e+05  \n",
       "min           0.0      0.000000       3.000000     10.035601  6.250830e+05  \n",
       "25%           0.0      0.000000      90.000000     25.383901  1.208923e+06  \n",
       "50%           0.0      0.000000     124.000000     44.084289  1.330423e+06  \n",
       "75%           0.0      0.000000     144.000000     74.390126  1.425944e+06  \n",
       "max           0.0      1.000000     160.000000    167.131365  1.747559e+06  "
      ]
     },
     "execution_count": 11,
     "metadata": {},
     "output_type": "execute_result"
    }
   ],
   "source": [
    "df.describe()"
   ]
  },
  {
   "cell_type": "code",
   "execution_count": null,
   "metadata": {
    "collapsed": true
   },
   "outputs": [],
   "source": []
  },
  {
   "cell_type": "code",
   "execution_count": 53,
   "metadata": {},
   "outputs": [
    {
     "data": {
      "text/html": [
       "<div>\n",
       "<style>\n",
       "    .dataframe thead tr:only-child th {\n",
       "        text-align: right;\n",
       "    }\n",
       "\n",
       "    .dataframe thead th {\n",
       "        text-align: left;\n",
       "    }\n",
       "\n",
       "    .dataframe tbody tr th {\n",
       "        vertical-align: top;\n",
       "    }\n",
       "</style>\n",
       "<table border=\"1\" class=\"dataframe\">\n",
       "  <thead>\n",
       "    <tr style=\"text-align: right;\">\n",
       "      <th></th>\n",
       "      <th>house_id</th>\n",
       "      <th>buid_date</th>\n",
       "      <th>date_priced</th>\n",
       "      <th>dst_dock</th>\n",
       "      <th>dst_capital</th>\n",
       "      <th>dst_mkt</th>\n",
       "      <th>dst_tower</th>\n",
       "      <th>dst_river</th>\n",
       "      <th>renovation</th>\n",
       "      <th>dining_rooms</th>\n",
       "      <th>...</th>\n",
       "      <th>bathrooms</th>\n",
       "      <th>king_visit</th>\n",
       "      <th>curse</th>\n",
       "      <th>king_blessing</th>\n",
       "      <th>farm_land</th>\n",
       "      <th>locations</th>\n",
       "      <th>holy_tree</th>\n",
       "      <th>dst_knight</th>\n",
       "      <th>builder</th>\n",
       "      <th>price</th>\n",
       "    </tr>\n",
       "    <tr>\n",
       "      <th>garden</th>\n",
       "      <th></th>\n",
       "      <th></th>\n",
       "      <th></th>\n",
       "      <th></th>\n",
       "      <th></th>\n",
       "      <th></th>\n",
       "      <th></th>\n",
       "      <th></th>\n",
       "      <th></th>\n",
       "      <th></th>\n",
       "      <th></th>\n",
       "      <th></th>\n",
       "      <th></th>\n",
       "      <th></th>\n",
       "      <th></th>\n",
       "      <th></th>\n",
       "      <th></th>\n",
       "      <th></th>\n",
       "      <th></th>\n",
       "      <th></th>\n",
       "      <th></th>\n",
       "    </tr>\n",
       "  </thead>\n",
       "  <tbody>\n",
       "    <tr>\n",
       "      <th>0.0</th>\n",
       "      <td>13112</td>\n",
       "      <td>13112</td>\n",
       "      <td>13112</td>\n",
       "      <td>11825</td>\n",
       "      <td>12436</td>\n",
       "      <td>11259</td>\n",
       "      <td>12680</td>\n",
       "      <td>13112</td>\n",
       "      <td>11804</td>\n",
       "      <td>11826</td>\n",
       "      <td>...</td>\n",
       "      <td>12341</td>\n",
       "      <td>13112</td>\n",
       "      <td>12319</td>\n",
       "      <td>13112</td>\n",
       "      <td>13112</td>\n",
       "      <td>11795</td>\n",
       "      <td>10526</td>\n",
       "      <td>12436</td>\n",
       "      <td>13112</td>\n",
       "      <td>13112</td>\n",
       "    </tr>\n",
       "    <tr>\n",
       "      <th>1.0</th>\n",
       "      <td>1403</td>\n",
       "      <td>1403</td>\n",
       "      <td>1403</td>\n",
       "      <td>1240</td>\n",
       "      <td>1335</td>\n",
       "      <td>1197</td>\n",
       "      <td>1359</td>\n",
       "      <td>1403</td>\n",
       "      <td>1258</td>\n",
       "      <td>1255</td>\n",
       "      <td>...</td>\n",
       "      <td>1320</td>\n",
       "      <td>0</td>\n",
       "      <td>1322</td>\n",
       "      <td>1403</td>\n",
       "      <td>1403</td>\n",
       "      <td>1256</td>\n",
       "      <td>1126</td>\n",
       "      <td>1335</td>\n",
       "      <td>1403</td>\n",
       "      <td>1403</td>\n",
       "    </tr>\n",
       "  </tbody>\n",
       "</table>\n",
       "<p>2 rows × 21 columns</p>\n",
       "</div>"
      ],
      "text/plain": [
       "        house_id  buid_date  date_priced  dst_dock  dst_capital  dst_mkt  \\\n",
       "garden                                                                     \n",
       "0.0        13112      13112        13112     11825        12436    11259   \n",
       "1.0         1403       1403         1403      1240         1335     1197   \n",
       "\n",
       "        dst_tower  dst_river  renovation  dining_rooms  ...    bathrooms  \\\n",
       "garden                                                  ...                \n",
       "0.0         12680      13112       11804         11826  ...        12341   \n",
       "1.0          1359       1403        1258          1255  ...         1320   \n",
       "\n",
       "        king_visit  curse  king_blessing  farm_land  locations  holy_tree  \\\n",
       "garden                                                                      \n",
       "0.0          13112  12319          13112      13112      11795      10526   \n",
       "1.0              0   1322           1403       1403       1256       1126   \n",
       "\n",
       "        dst_knight  builder  price  \n",
       "garden                              \n",
       "0.0          12436    13112  13112  \n",
       "1.0           1335     1403   1403  \n",
       "\n",
       "[2 rows x 21 columns]"
      ]
     },
     "execution_count": 53,
     "metadata": {},
     "output_type": "execute_result"
    }
   ],
   "source": [
    "df.groupby('garden',axis=0).count()"
   ]
  },
  {
   "cell_type": "code",
   "execution_count": null,
   "metadata": {
    "collapsed": true
   },
   "outputs": [],
   "source": []
  },
  {
   "cell_type": "code",
   "execution_count": 123,
   "metadata": {},
   "outputs": [
    {
     "data": {
      "text/plain": [
       "0.0    13112\n",
       "1.0     1403\n",
       "Name: garden, dtype: int64"
      ]
     },
     "execution_count": 123,
     "metadata": {},
     "output_type": "execute_result"
    }
   ],
   "source": [
    "pd.value_counts(df['garden'])"
   ]
  },
  {
   "cell_type": "code",
   "execution_count": 124,
   "metadata": {},
   "outputs": [
    {
     "data": {
      "text/plain": [
       "0.0    15097\n",
       "Name: king_visit, dtype: int64"
      ]
     },
     "execution_count": 124,
     "metadata": {},
     "output_type": "execute_result"
    }
   ],
   "source": [
    "pd.value_counts(df['king_visit'])"
   ]
  },
  {
   "cell_type": "code",
   "execution_count": null,
   "metadata": {
    "collapsed": true
   },
   "outputs": [],
   "source": []
  },
  {
   "cell_type": "code",
   "execution_count": null,
   "metadata": {},
   "outputs": [],
   "source": []
  },
  {
   "cell_type": "code",
   "execution_count": null,
   "metadata": {},
   "outputs": [],
   "source": []
  },
  {
   "cell_type": "code",
   "execution_count": null,
   "metadata": {},
   "outputs": [],
   "source": []
  },
  {
   "cell_type": "code",
   "execution_count": 125,
   "metadata": {},
   "outputs": [],
   "source": [
    "import datetime"
   ]
  },
  {
   "cell_type": "code",
   "execution_count": 126,
   "metadata": {},
   "outputs": [
    {
     "data": {
      "text/plain": [
       "datetime.datetime(2018, 3, 30, 0, 40, 9, 88614)"
      ]
     },
     "execution_count": 126,
     "metadata": {},
     "output_type": "execute_result"
    }
   ],
   "source": [
    "datetime.datetime.today()"
   ]
  },
  {
   "cell_type": "code",
   "execution_count": 127,
   "metadata": {},
   "outputs": [
    {
     "ename": "TypeError",
     "evalue": "an integer is required (got type str)",
     "output_type": "error",
     "traceback": [
      "\u001b[1;31m------------------------------------------------------------\u001b[0m",
      "\u001b[1;31mTypeError\u001b[0m                  Traceback (most recent call last)",
      "\u001b[1;32m<ipython-input-127-279a2fdb61ec>\u001b[0m in \u001b[0;36m<module>\u001b[1;34m()\u001b[0m\n\u001b[1;32m----> 1\u001b[1;33m \u001b[0mdatetime\u001b[0m\u001b[1;33m.\u001b[0m\u001b[0mdate\u001b[0m\u001b[1;33m(\u001b[0m\u001b[0mx\u001b[0m\u001b[1;33m)\u001b[0m\u001b[1;33m\u001b[0m\u001b[0m\n\u001b[0m",
      "\u001b[1;31mTypeError\u001b[0m: an integer is required (got type str)"
     ]
    }
   ],
   "source": [
    "datetime.date(x)"
   ]
  },
  {
   "cell_type": "code",
   "execution_count": 130,
   "metadata": {},
   "outputs": [
    {
     "name": "stderr",
     "output_type": "stream",
     "text": [
      "C:\\ProgramData\\Anaconda3\\lib\\site-packages\\ipykernel_launcher.py:1: SettingWithCopyWarning: \n",
      "A value is trying to be set on a copy of a slice from a DataFrame\n",
      "\n",
      "See the caveats in the documentation: http://pandas.pydata.org/pandas-docs/stable/indexing.html#indexing-view-versus-copy\n",
      "  \"\"\"Entry point for launching an IPython kernel.\n"
     ]
    }
   ],
   "source": [
    "z[0]=z[0].strip()"
   ]
  },
  {
   "cell_type": "code",
   "execution_count": 132,
   "metadata": {},
   "outputs": [],
   "source": [
    "x=z[0].split(' ')\n",
    "df.loc()"
   ]
  },
  {
   "cell_type": "code",
   "execution_count": 135,
   "metadata": {},
   "outputs": [
    {
     "data": {
      "text/plain": [
       "['4', '21', '1602']"
      ]
     },
     "execution_count": 135,
     "metadata": {},
     "output_type": "execute_result"
    }
   ],
   "source": [
    "x[0].split('/')"
   ]
  },
  {
   "cell_type": "code",
   "execution_count": null,
   "metadata": {
    "collapsed": true
   },
   "outputs": [],
   "source": []
  },
  {
   "cell_type": "code",
   "execution_count": null,
   "metadata": {
    "collapsed": true
   },
   "outputs": [],
   "source": []
  },
  {
   "cell_type": "code",
   "execution_count": null,
   "metadata": {
    "collapsed": true
   },
   "outputs": [],
   "source": [
    "def fun_day(row):\n",
    "    x=row['build_date'].split()\n",
    "    x[0].split\n",
    "\n",
    "\n",
    "\n",
    "\n",
    "df['b_day']=df.apply(lambda i :fun_day(i),axis=1)\n",
    "df['b_mon']=df.apply(lambda i :fun_mon(i),axis=1)\n",
    "df['b_year']=df.apply(lambda i :fun_year(i),axis=1)\n",
    "df['b_hour']=df.apply(lambda i :fun_hour(i),axis=1)\n",
    "\n",
    "df['p_day']=df.apply(lambda i :fun_day_p(i),axis=1)\n",
    "df['p_mon']=df.apply(lambda i :fun_mon_p(i),axis=1)\n",
    "df['p_year']=df.apply(lambda i :fun_year_p(i),axis=1)\n",
    "df['p_hour']=df.apply(lambda i :fun_hour_p(i),axis=1)"
   ]
  },
  {
   "cell_type": "code",
   "execution_count": 349,
   "metadata": {},
   "outputs": [],
   "source": [
    "x=df['buid_date'][3]"
   ]
  },
  {
   "cell_type": "code",
   "execution_count": 350,
   "metadata": {},
   "outputs": [
    {
     "data": {
      "text/plain": [
       "1606"
      ]
     },
     "execution_count": 350,
     "metadata": {},
     "output_type": "execute_result"
    }
   ],
   "source": [
    "x.year"
   ]
  },
  {
   "cell_type": "code",
   "execution_count": 351,
   "metadata": {},
   "outputs": [
    {
     "data": {
      "text/plain": [
       "8"
      ]
     },
     "execution_count": 351,
     "metadata": {},
     "output_type": "execute_result"
    }
   ],
   "source": [
    "x.month"
   ]
  },
  {
   "cell_type": "code",
   "execution_count": 207,
   "metadata": {},
   "outputs": [],
   "source": [
    "#y=datetime.strptime(z1, '%m/%d/%Y %I:%M %p')"
   ]
  },
  {
   "cell_type": "code",
   "execution_count": 202,
   "metadata": {},
   "outputs": [],
   "source": [
    "x=x.strftime('%m/%d/%Y %I:%M %p')"
   ]
  },
  {
   "cell_type": "code",
   "execution_count": 203,
   "metadata": {
    "collapsed": true
   },
   "outputs": [],
   "source": [
    "y=y.strftime('%m/%d/%Y %I:%M %p')"
   ]
  },
  {
   "cell_type": "code",
   "execution_count": 212,
   "metadata": {},
   "outputs": [
    {
     "data": {
      "text/plain": [
       "2636"
      ]
     },
     "execution_count": 212,
     "metadata": {},
     "output_type": "execute_result"
    }
   ],
   "source": [
    "z.days\n"
   ]
  },
  {
   "cell_type": "code",
   "execution_count": null,
   "metadata": {},
   "outputs": [],
   "source": []
  },
  {
   "cell_type": "code",
   "execution_count": 312,
   "metadata": {},
   "outputs": [
    {
     "data": {
      "text/plain": [
       "<matplotlib.axes._subplots.AxesSubplot at 0x23e98fc6048>"
      ]
     },
     "execution_count": 312,
     "metadata": {},
     "output_type": "execute_result"
    },
    {
     "data": {
      "image/png": "[encoded data removed]",
      "text/plain": [
       "<matplotlib.figure.Figure at 0x23e9f8f8518>"
      ]
     },
     "metadata": {},
     "output_type": "display_data"
    }
   ],
   "source": [
    "plt.figure(figsize=[18,8])\n",
    "sns.boxplot(y='price',x='locations',data=df)"
   ]
  },
  {
   "cell_type": "code",
   "execution_count": 313,
   "metadata": {},
   "outputs": [
    {
     "data": {
      "text/plain": [
       "<matplotlib.axes._subplots.AxesSubplot at 0x23e9fae3828>"
      ]
     },
     "execution_count": 313,
     "metadata": {},
     "output_type": "execute_result"
    },
    {
     "data": {
      "image/png": "[encoded data removed]",
      "text/plain": [
       "<matplotlib.figure.Figure at 0x23e9ad57128>"
      ]
     },
     "metadata": {},
     "output_type": "display_data"
    }
   ],
   "source": [
    "plt.figure(figsize=[18,8])\n",
    "sns.boxplot(y='price',x='garden',data=df)"
   ]
  },
  {
   "cell_type": "code",
   "execution_count": 314,
   "metadata": {},
   "outputs": [
    {
     "data": {
      "text/plain": [
       "<matplotlib.axes._subplots.AxesSubplot at 0x23e8adabeb8>"
      ]
     },
     "execution_count": 314,
     "metadata": {},
     "output_type": "execute_result"
    },
    {
     "data": {
      "image/png": "[encoded data removed]",
      "text/plain": [
       "<matplotlib.figure.Figure at 0x23e9ac32710>"
      ]
     },
     "metadata": {},
     "output_type": "display_data"
    }
   ],
   "source": [
    "plt.figure(figsize=[18,8])\n",
    "sns.boxplot(y='price',x='renovation',data=df)"
   ]
  },
  {
   "cell_type": "code",
   "execution_count": 315,
   "metadata": {},
   "outputs": [
    {
     "data": {
      "text/plain": [
       "<matplotlib.axes._subplots.AxesSubplot at 0x23e98ec2dd8>"
      ]
     },
     "execution_count": 315,
     "metadata": {},
     "output_type": "execute_result"
    },
    {
     "data": {
      "image/png": "[encoded data removed]",
      "text/plain": [
       "<matplotlib.figure.Figure at 0x23e9abbcc88>"
      ]
     },
     "metadata": {},
     "output_type": "display_data"
    }
   ],
   "source": [
    "plt.figure(figsize=[18,8])\n",
    "sns.boxplot(y='price',x='curse',data=df)"
   ]
  },
  {
   "cell_type": "code",
   "execution_count": 316,
   "metadata": {},
   "outputs": [
    {
     "data": {
      "text/plain": [
       "<matplotlib.axes._subplots.AxesSubplot at 0x23e88f63908>"
      ]
     },
     "execution_count": 316,
     "metadata": {},
     "output_type": "execute_result"
    },
    {
     "data": {
      "image/png": "[encoded data removed]",
      "text/plain": [
       "<matplotlib.figure.Figure at 0x23e9ab37668>"
      ]
     },
     "metadata": {},
     "output_type": "display_data"
    }
   ],
   "source": [
    "plt.figure(figsize=[18,8])\n",
    "sns.boxplot(y='price',x='king_visit',data=df)"
   ]
  },
  {
   "cell_type": "code",
   "execution_count": 317,
   "metadata": {},
   "outputs": [
    {
     "data": {
      "text/plain": [
       "<matplotlib.axes._subplots.AxesSubplot at 0x23e9ab709b0>"
      ]
     },
     "execution_count": 317,
     "metadata": {},
     "output_type": "execute_result"
    },
    {
     "data": {
      "image/png": "[encoded data removed]",
      "text/plain": [
       "<matplotlib.figure.Figure at 0x23e98dea048>"
      ]
     },
     "metadata": {},
     "output_type": "display_data"
    }
   ],
   "source": [
    "plt.figure(figsize=[18,8])\n",
    "sns.boxplot(y='price',x='farm_land',data=df)"
   ]
  },
  {
   "cell_type": "code",
   "execution_count": 318,
   "metadata": {},
   "outputs": [
    {
     "data": {
      "text/plain": [
       "<matplotlib.axes._subplots.AxesSubplot at 0x23e9ab06b00>"
      ]
     },
     "execution_count": 318,
     "metadata": {},
     "output_type": "execute_result"
    },
    {
     "data": {
      "image/png": "[encoded data removed]",
      "text/plain": [
       "<matplotlib.figure.Figure at 0x23e98dea320>"
      ]
     },
     "metadata": {},
     "output_type": "display_data"
    }
   ],
   "source": [
    "plt.figure(figsize=[18,8])\n",
    "sns.boxplot(y='price',x='holy_tree',data=df)"
   ]
  },
  {
   "cell_type": "code",
   "execution_count": 319,
   "metadata": {},
   "outputs": [
    {
     "data": {
      "text/plain": [
       "<matplotlib.axes._subplots.AxesSubplot at 0x23e9ab708d0>"
      ]
     },
     "execution_count": 319,
     "metadata": {},
     "output_type": "execute_result"
    },
    {
     "data": {
      "image/png": "[encoded data removed]",
      "text/plain": [
       "<matplotlib.figure.Figure at 0x23e9514ac50>"
      ]
     },
     "metadata": {},
     "output_type": "display_data"
    }
   ],
   "source": [
    "plt.figure(figsize=[18,8])\n",
    "sns.boxplot(y='price',x='bedrooms',data=df)"
   ]
  },
  {
   "cell_type": "code",
   "execution_count": 320,
   "metadata": {},
   "outputs": [
    {
     "data": {
      "text/plain": [
       "<matplotlib.axes._subplots.AxesSubplot at 0x23e98e6e160>"
      ]
     },
     "execution_count": 320,
     "metadata": {},
     "output_type": "execute_result"
    },
    {
     "data": {
      "image/png": "[encoded data removed]",
      "text/plain": [
       "<matplotlib.figure.Figure at 0x23e950e16a0>"
      ]
     },
     "metadata": {},
     "output_type": "display_data"
    }
   ],
   "source": [
    "plt.figure(figsize=[18,8])\n",
    "sns.boxplot(y='price',x='bathrooms',data=df)"
   ]
  },
  {
   "cell_type": "code",
   "execution_count": 325,
   "metadata": {},
   "outputs": [
    {
     "data": {
      "text/plain": [
       "<matplotlib.axes._subplots.AxesSubplot at 0x23e94f91a58>"
      ]
     },
     "execution_count": 325,
     "metadata": {},
     "output_type": "execute_result"
    },
    {
     "data": {
      "image/png": "[encoded data removed]",
      "text/plain": [
       "<matplotlib.figure.Figure at 0x23e99a3c7f0>"
      ]
     },
     "metadata": {},
     "output_type": "display_data"
    }
   ],
   "source": [
    "plt.figure(figsize=[18,8])\n",
    "sns.boxplot(y='price',x='dining_rooms',data=df)"
   ]
  },
  {
   "cell_type": "code",
   "execution_count": 327,
   "metadata": {},
   "outputs": [
    {
     "data": {
      "text/plain": [
       "<matplotlib.collections.PathCollection at 0x23e94c35630>"
      ]
     },
     "execution_count": 327,
     "metadata": {},
     "output_type": "execute_result"
    },
    {
     "data": {
      "image/png": "[encoded data removed]",
      "text/plain": [
       "<matplotlib.figure.Figure at 0x23e94eedf28>"
      ]
     },
     "metadata": {},
     "output_type": "display_data"
    }
   ],
   "source": [
    "plt.scatter(y='price',x='house_age',data=df)"
   ]
  },
  {
   "cell_type": "code",
   "execution_count": 328,
   "metadata": {},
   "outputs": [
    {
     "data": {
      "text/plain": [
       "<matplotlib.collections.PathCollection at 0x23e94ba4dd8>"
      ]
     },
     "execution_count": 328,
     "metadata": {},
     "output_type": "execute_result"
    },
    {
     "data": {
      "image/png": "[encoded data removed]",
      "text/plain": [
       "<matplotlib.figure.Figure at 0x23e98cb0dd8>"
      ]
     },
     "metadata": {},
     "output_type": "display_data"
    }
   ],
   "source": [
    "plt.scatter(y='price',x='dst_dock',data=df)"
   ]
  },
  {
   "cell_type": "code",
   "execution_count": 329,
   "metadata": {},
   "outputs": [
    {
     "data": {
      "text/plain": [
       "<matplotlib.collections.PathCollection at 0x23e94aed7b8>"
      ]
     },
     "execution_count": 329,
     "metadata": {},
     "output_type": "execute_result"
    },
    {
     "data": {
      "image/png": "[encoded data removed]",
      "text/plain": [
       "<matplotlib.figure.Figure at 0x23e94d3a7f0>"
      ]
     },
     "metadata": {},
     "output_type": "display_data"
    }
   ],
   "source": [
    "plt.scatter(y='price',x='dst_capital',data=df)"
   ]
  },
  {
   "cell_type": "code",
   "execution_count": 330,
   "metadata": {},
   "outputs": [
    {
     "data": {
      "text/plain": [
       "<matplotlib.collections.PathCollection at 0x23e94a4d5f8>"
      ]
     },
     "execution_count": 330,
     "metadata": {},
     "output_type": "execute_result"
    },
    {
     "data": {
      "image/png": "[encoded data removed]",
      "text/plain": [
       "<matplotlib.figure.Figure at 0x23e98c72198>"
      ]
     },
     "metadata": {},
     "output_type": "display_data"
    }
   ],
   "source": [
    "plt.scatter(y='price',x='dst_knight',data=df)"
   ]
  },
  {
   "cell_type": "code",
   "execution_count": 335,
   "metadata": {},
   "outputs": [
    {
     "data": {
      "text/plain": [
       "(array([  1.00000000e+00,   1.00000000e+00,   0.00000000e+00,\n",
       "          4.00000000e+00,   5.00000000e+00,   1.30000000e+01,\n",
       "          1.70000000e+01,   1.70000000e+01,   2.50000000e+01,\n",
       "          4.20000000e+01,   5.40000000e+01,   6.20000000e+01,\n",
       "          9.00000000e+01,   1.01000000e+02,   1.31000000e+02,\n",
       "          1.59000000e+02,   1.74000000e+02,   2.05000000e+02,\n",
       "          2.48000000e+02,   2.59000000e+02,   3.10000000e+02,\n",
       "          3.34000000e+02,   3.99000000e+02,   4.08000000e+02,\n",
       "          5.06000000e+02,   5.56000000e+02,   6.14000000e+02,\n",
       "          6.96000000e+02,   7.38000000e+02,   8.36000000e+02,\n",
       "          8.88000000e+02,   9.12000000e+02,   9.51000000e+02,\n",
       "          1.03800000e+03,   9.32000000e+02,   9.56000000e+02,\n",
       "          8.54000000e+02,   7.28000000e+02,   6.92000000e+02,\n",
       "          5.08000000e+02,   3.79000000e+02,   2.60000000e+02,\n",
       "          1.85000000e+02,   1.19000000e+02,   5.70000000e+01,\n",
       "          2.10000000e+01,   1.00000000e+01,   4.00000000e+00,\n",
       "          0.00000000e+00,   1.00000000e+00]),\n",
       " array([  625083.  ,   647532.52,   669982.04,   692431.56,   714881.08,\n",
       "          737330.6 ,   759780.12,   782229.64,   804679.16,   827128.68,\n",
       "          849578.2 ,   872027.72,   894477.24,   916926.76,   939376.28,\n",
       "          961825.8 ,   984275.32,  1006724.84,  1029174.36,  1051623.88,\n",
       "         1074073.4 ,  1096522.92,  1118972.44,  1141421.96,  1163871.48,\n",
       "         1186321.  ,  1208770.52,  1231220.04,  1253669.56,  1276119.08,\n",
       "         1298568.6 ,  1321018.12,  1343467.64,  1365917.16,  1388366.68,\n",
       "         1410816.2 ,  1433265.72,  1455715.24,  1478164.76,  1500614.28,\n",
       "         1523063.8 ,  1545513.32,  1567962.84,  1590412.36,  1612861.88,\n",
       "         1635311.4 ,  1657760.92,  1680210.44,  1702659.96,  1725109.48,\n",
       "         1747559.  ]),\n",
       " <a list of 50 Patch objects>)"
      ]
     },
     "execution_count": 335,
     "metadata": {},
     "output_type": "execute_result"
    },
    {
     "data": {
      "image/png": "[encoded data removed]",
      "text/plain": [
       "<matplotlib.figure.Figure at 0x23e9f73d7f0>"
      ]
     },
     "metadata": {},
     "output_type": "display_data"
    }
   ],
   "source": [
    "plt.hist(df['price'],bins=50)"
   ]
  },
  {
   "cell_type": "code",
   "execution_count": 345,
   "metadata": {},
   "outputs": [
    {
     "data": {
      "text/plain": [
       "<matplotlib.axes._subplots.AxesSubplot at 0x23e9383ffd0>"
      ]
     },
     "execution_count": 345,
     "metadata": {},
     "output_type": "execute_result"
    },
    {
     "data": {
      "image/png": "[encoded data removed]",
      "text/plain": [
       "<matplotlib.figure.Figure at 0x23e98a7ad68>"
      ]
     },
     "metadata": {},
     "output_type": "display_data"
    }
   ],
   "source": [
    "plt.figure(figsize=(18,7))\n",
    "sns.barplot(x='builder',y='price',data=df,hue='locations')"
   ]
  },
  {
   "cell_type": "code",
   "execution_count": 347,
   "metadata": {},
   "outputs": [
    {
     "data": {
      "text/plain": [
       "<matplotlib.axes._subplots.AxesSubplot at 0x23e989a8f98>"
      ]
     },
     "execution_count": 347,
     "metadata": {},
     "output_type": "execute_result"
    },
    {
     "data": {
      "image/png": "[encoded data removed]",
      "text/plain": [
       "<matplotlib.figure.Figure at 0x23e9255a0f0>"
      ]
     },
     "metadata": {},
     "output_type": "display_data"
    }
   ],
   "source": [
    "plt.figure(figsize=(18,7))\n",
    "sns.barplot(x='bedrooms',y='price',data=df,hue='dining_rooms')"
   ]
  },
  {
   "cell_type": "code",
   "execution_count": null,
   "metadata": {
    "collapsed": true
   },
   "outputs": [],
   "source": []
  },
  {
   "cell_type": "code",
   "execution_count": null,
   "metadata": {
    "collapsed": true
   },
   "outputs": [],
   "source": []
  },
  {
   "cell_type": "code",
   "execution_count": 323,
   "metadata": {},
   "outputs": [
    {
     "data": {
      "text/plain": [
       "Index(['house_id', 'buid_date', 'date_priced', 'garden', 'dst_dock',\n",
       "       'dst_capital', 'dst_mkt', 'dst_tower', 'dst_river', 'renovation',\n",
       "       'dining_rooms', 'bedrooms', 'bathrooms', 'king_visit', 'curse',\n",
       "       'king_blessing', 'farm_land', 'locations', 'holy_tree', 'dst_knight',\n",
       "       'builder', 'price', 'house_age'],\n",
       "      dtype='object')"
      ]
     },
     "execution_count": 323,
     "metadata": {},
     "output_type": "execute_result"
    }
   ],
   "source": [
    "df.columns"
   ]
  },
  {
   "cell_type": "code",
   "execution_count": 376,
   "metadata": {},
   "outputs": [
    {
     "data": {
      "text/plain": [
       "<matplotlib.axes._subplots.AxesSubplot at 0x23e99523908>"
      ]
     },
     "execution_count": 376,
     "metadata": {},
     "output_type": "execute_result"
    },
    {
     "data": {
      "image/png": "[encoded data removed]",
      "text/plain": [
       "<matplotlib.figure.Figure at 0x23e918f7c88>"
      ]
     },
     "metadata": {},
     "output_type": "display_data"
    }
   ],
   "source": [
    "plt.figure(figsize=[18,8])\n",
    "sns.boxplot(y='dst_river',x='king_visit',data=df)"
   ]
  },
  {
   "cell_type": "code",
   "execution_count": 379,
   "metadata": {},
   "outputs": [
    {
     "data": {
      "text/plain": [
       "<matplotlib.collections.PathCollection at 0x23e941a0128>"
      ]
     },
     "execution_count": 379,
     "metadata": {},
     "output_type": "execute_result"
    },
    {
     "data": {
      "image/png": "[encoded data removed]",
      "text/plain": [
       "<matplotlib.figure.Figure at 0x23e94c99ef0>"
      ]
     },
     "metadata": {},
     "output_type": "display_data"
    }
   ],
   "source": [
    "plt.scatter(x='king_blessing',y='price',data=df)"
   ]
  },
  {
   "cell_type": "code",
   "execution_count": null,
   "metadata": {
    "collapsed": true
   },
   "outputs": [],
   "source": []
  },
  {
   "cell_type": "code",
   "execution_count": null,
   "metadata": {
    "collapsed": true
   },
   "outputs": [],
   "source": []
  },
  {
   "cell_type": "code",
   "execution_count": null,
   "metadata": {
    "collapsed": true
   },
   "outputs": [],
   "source": []
  },
  {
   "cell_type": "code",
   "execution_count": null,
   "metadata": {
    "collapsed": true
   },
   "outputs": [],
   "source": []
  },
  {
   "cell_type": "code",
   "execution_count": null,
   "metadata": {
    "collapsed": true
   },
   "outputs": [],
   "source": []
  },
  {
   "cell_type": "code",
   "execution_count": null,
   "metadata": {
    "collapsed": true
   },
   "outputs": [],
   "source": []
  },
  {
   "cell_type": "code",
   "execution_count": null,
   "metadata": {
    "collapsed": true
   },
   "outputs": [],
   "source": []
  },
  {
   "cell_type": "code",
   "execution_count": 181,
   "metadata": {},
   "outputs": [
    {
     "data": {
      "text/plain": [
       "datetime.datetime(2011, 1, 3, 0, 0)"
      ]
     },
     "execution_count": 181,
     "metadata": {},
     "output_type": "execute_result"
    }
   ],
   "source": [
    "from datetime import datetime\n",
    "\n",
    "war_start = '2011-01-03'\n",
    "datetime.strptime(dt_str, '%m/%d/%Y %I:%M:%S %p')"
   ]
  },
  {
   "cell_type": "code",
   "execution_count": null,
   "metadata": {
    "collapsed": true
   },
   "outputs": [],
   "source": []
  },
  {
   "cell_type": "code",
   "execution_count": null,
   "metadata": {
    "collapsed": true
   },
   "outputs": [],
   "source": []
  },
  {
   "cell_type": "code",
   "execution_count": null,
   "metadata": {
    "collapsed": true
   },
   "outputs": [],
   "source": []
  },
  {
   "cell_type": "code",
   "execution_count": 191,
   "metadata": {},
   "outputs": [
    {
     "data": {
      "text/plain": [
       "[<matplotlib.lines.Line2D at 0x23e9f8deda0>,\n",
       " <matplotlib.lines.Line2D at 0x23e9f8deef0>]"
      ]
     },
     "execution_count": 191,
     "metadata": {},
     "output_type": "execute_result"
    },
    {
     "data": {
      "image/png": "[encoded data removed]",
      "text/plain": [
       "<matplotlib.figure.Figure at 0x23e9f8483c8>"
      ]
     },
     "metadata": {},
     "output_type": "display_data"
    }
   ],
   "source": [
    "plt.plot(df[['dst_capital','price']])"
   ]
  },
  {
   "cell_type": "code",
   "execution_count": null,
   "metadata": {
    "collapsed": true
   },
   "outputs": [],
   "source": []
  },
  {
   "cell_type": "code",
   "execution_count": null,
   "metadata": {
    "collapsed": true
   },
   "outputs": [],
   "source": []
  },
  {
   "cell_type": "code",
   "execution_count": null,
   "metadata": {
    "collapsed": true
   },
   "outputs": [],
   "source": []
  },
  {
   "cell_type": "code",
   "execution_count": null,
   "metadata": {
    "collapsed": true
   },
   "outputs": [],
   "source": []
  },
  {
   "cell_type": "code",
   "execution_count": null,
   "metadata": {
    "collapsed": true
   },
   "outputs": [],
   "source": []
  },
  {
   "cell_type": "code",
   "execution_count": null,
   "metadata": {
    "collapsed": true
   },
   "outputs": [],
   "source": []
  },
  {
   "cell_type": "code",
   "execution_count": null,
   "metadata": {
    "collapsed": true
   },
   "outputs": [],
   "source": []
  },
  {
   "cell_type": "code",
   "execution_count": null,
   "metadata": {
    "collapsed": true
   },
   "outputs": [],
   "source": []
  },
  {
   "cell_type": "code",
   "execution_count": null,
   "metadata": {
    "collapsed": true
   },
   "outputs": [],
   "source": []
  },
  {
   "cell_type": "code",
   "execution_count": null,
   "metadata": {
    "collapsed": true
   },
   "outputs": [],
   "source": []
  },
  {
   "cell_type": "code",
   "execution_count": null,
   "metadata": {
    "collapsed": true
   },
   "outputs": [],
   "source": []
  },
  {
   "cell_type": "code",
   "execution_count": null,
   "metadata": {
    "collapsed": true
   },
   "outputs": [],
   "source": []
  },
  {
   "cell_type": "code",
   "execution_count": null,
   "metadata": {
    "collapsed": true
   },
   "outputs": [],
   "source": []
  },
  {
   "cell_type": "code",
   "execution_count": null,
   "metadata": {
    "collapsed": true
   },
   "outputs": [],
   "source": []
  },
  {
   "cell_type": "code",
   "execution_count": null,
   "metadata": {
    "collapsed": true
   },
   "outputs": [],
   "source": []
  },
  {
   "cell_type": "code",
   "execution_count": null,
   "metadata": {
    "collapsed": true
   },
   "outputs": [],
   "source": []
  },
  {
   "cell_type": "code",
   "execution_count": null,
   "metadata": {
    "collapsed": true
   },
   "outputs": [],
   "source": []
  },
  {
   "cell_type": "code",
   "execution_count": null,
   "metadata": {
    "collapsed": true
   },
   "outputs": [],
   "source": []
  },
  {
   "cell_type": "code",
   "execution_count": null,
   "metadata": {
    "collapsed": true
   },
   "outputs": [],
   "source": []
  },
  {
   "cell_type": "code",
   "execution_count": null,
   "metadata": {
    "collapsed": true
   },
   "outputs": [],
   "source": []
  },
  {
   "cell_type": "code",
   "execution_count": null,
   "metadata": {
    "collapsed": true
   },
   "outputs": [],
   "source": []
  },
  {
   "cell_type": "code",
   "execution_count": null,
   "metadata": {
    "collapsed": true
   },
   "outputs": [],
   "source": []
  }
 ],
 "metadata": {
  "kernelspec": {
   "display_name": "Python 3",
   "language": "python",
   "name": "python3"
  },
  "language_info": {
   "codemirror_mode": {
    "name": "ipython",
    "version": 3
   },
   "file_extension": ".py",
   "mimetype": "text/x-python",
   "name": "python",
   "nbconvert_exporter": "python",
   "pygments_lexer": "ipython3",
   "version": "3.6.3"
  }
 },
 "nbformat": 4,
 "nbformat_minor": 2
}
