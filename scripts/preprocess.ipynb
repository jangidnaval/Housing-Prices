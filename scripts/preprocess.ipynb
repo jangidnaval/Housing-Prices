{
 "cells": [
  {
   "cell_type": "code",
   "execution_count": 3,
   "metadata": {},
   "outputs": [],
   "source": [
    "import pandas as pd\n",
    "import numpy as np\n",
    "import matplotlib.pyplot as plt\n",
    "import seaborn as sns\n",
    "%matplotlib inline"
   ]
  },
  {
   "cell_type": "code",
   "execution_count": 4,
   "metadata": {
    "collapsed": true
   },
   "outputs": [],
   "source": [
    "df=pd.read_csv('Not_Known.csv')"
   ]
  },
  {
   "cell_type": "code",
   "execution_count": 6,
   "metadata": {},
   "outputs": [
    {
     "data": {
      "text/html": [
       "<div>\n",
       "<style>\n",
       "    .dataframe thead tr:only-child th {\n",
       "        text-align: right;\n",
       "    }\n",
       "\n",
       "    .dataframe thead th {\n",
       "        text-align: left;\n",
       "    }\n",
       "\n",
       "    .dataframe tbody tr th {\n",
       "        vertical-align: top;\n",
       "    }\n",
       "</style>\n",
       "<table border=\"1\" class=\"dataframe\">\n",
       "  <thead>\n",
       "    <tr style=\"text-align: right;\">\n",
       "      <th></th>\n",
       "      <th>house_id</th>\n",
       "      <th>buid_date</th>\n",
       "      <th>date_priced</th>\n",
       "      <th>garden</th>\n",
       "      <th>dst_dock</th>\n",
       "      <th>dst_capital</th>\n",
       "      <th>dst_mkt</th>\n",
       "      <th>dst_tower</th>\n",
       "      <th>dst_river</th>\n",
       "      <th>renovation</th>\n",
       "      <th>dining_rooms</th>\n",
       "      <th>bedrooms</th>\n",
       "      <th>bathrooms</th>\n",
       "      <th>king_visit</th>\n",
       "      <th>curse</th>\n",
       "      <th>king_blessing</th>\n",
       "      <th>farm_land</th>\n",
       "      <th>locations</th>\n",
       "      <th>holy_tree</th>\n",
       "      <th>dst_knight</th>\n",
       "    </tr>\n",
       "  </thead>\n",
       "  <tbody>\n",
       "    <tr>\n",
       "      <th>0</th>\n",
       "      <td>6e32cec9</td>\n",
       "      <td>5/5/1600 11:39 AM</td>\n",
       "      <td>6/10/1608 8:17 AM</td>\n",
       "      <td>0.0</td>\n",
       "      <td>6.555428</td>\n",
       "      <td>136.448973</td>\n",
       "      <td>78.445508</td>\n",
       "      <td>88.480988</td>\n",
       "      <td>72.245533</td>\n",
       "      <td>0.0</td>\n",
       "      <td>3.0</td>\n",
       "      <td>NaN</td>\n",
       "      <td>2.0</td>\n",
       "      <td>0.0</td>\n",
       "      <td>0.0</td>\n",
       "      <td>24</td>\n",
       "      <td>small</td>\n",
       "      <td>NaN</td>\n",
       "      <td>yes</td>\n",
       "      <td>146.553349</td>\n",
       "    </tr>\n",
       "    <tr>\n",
       "      <th>1</th>\n",
       "      <td>6e32cee9</td>\n",
       "      <td>2/11/1603 2:55 PM</td>\n",
       "      <td>5/23/1611 7:33 AM</td>\n",
       "      <td>NaN</td>\n",
       "      <td>38.977167</td>\n",
       "      <td>5.128739</td>\n",
       "      <td>44.068565</td>\n",
       "      <td>152.377106</td>\n",
       "      <td>20.965323</td>\n",
       "      <td>0.0</td>\n",
       "      <td>2.0</td>\n",
       "      <td>3.0</td>\n",
       "      <td>4.0</td>\n",
       "      <td>0.0</td>\n",
       "      <td>0.0</td>\n",
       "      <td>155</td>\n",
       "      <td>small</td>\n",
       "      <td>King's Landing</td>\n",
       "      <td>NaN</td>\n",
       "      <td>15.416810</td>\n",
       "    </tr>\n",
       "    <tr>\n",
       "      <th>2</th>\n",
       "      <td>6e32ceeb</td>\n",
       "      <td>9/28/1600 7:35 PM</td>\n",
       "      <td>2/12/1611 11:42 PM</td>\n",
       "      <td>0.0</td>\n",
       "      <td>135.364314</td>\n",
       "      <td>85.723029</td>\n",
       "      <td>NaN</td>\n",
       "      <td>48.236597</td>\n",
       "      <td>19.196820</td>\n",
       "      <td>0.0</td>\n",
       "      <td>2.0</td>\n",
       "      <td>2.0</td>\n",
       "      <td>4.0</td>\n",
       "      <td>0.0</td>\n",
       "      <td>0.0</td>\n",
       "      <td>74</td>\n",
       "      <td>small</td>\n",
       "      <td>The Mountains</td>\n",
       "      <td>NaN</td>\n",
       "      <td>96.158416</td>\n",
       "    </tr>\n",
       "    <tr>\n",
       "      <th>3</th>\n",
       "      <td>6e32cf70</td>\n",
       "      <td>8/24/1600 2:21 PM</td>\n",
       "      <td>8/22/1611 5:37 AM</td>\n",
       "      <td>0.0</td>\n",
       "      <td>NaN</td>\n",
       "      <td>61.604752</td>\n",
       "      <td>85.026054</td>\n",
       "      <td>111.073489</td>\n",
       "      <td>17.494191</td>\n",
       "      <td>NaN</td>\n",
       "      <td>3.0</td>\n",
       "      <td>3.0</td>\n",
       "      <td>3.0</td>\n",
       "      <td>0.0</td>\n",
       "      <td>0.0</td>\n",
       "      <td>98</td>\n",
       "      <td>huge</td>\n",
       "      <td>The Mountains</td>\n",
       "      <td>yes</td>\n",
       "      <td>72.449136</td>\n",
       "    </tr>\n",
       "    <tr>\n",
       "      <th>4</th>\n",
       "      <td>6e32cf8c</td>\n",
       "      <td>9/3/1606 3:11 AM</td>\n",
       "      <td>12/23/1607 5:57 PM</td>\n",
       "      <td>NaN</td>\n",
       "      <td>28.097092</td>\n",
       "      <td>24.365967</td>\n",
       "      <td>47.656262</td>\n",
       "      <td>27.190590</td>\n",
       "      <td>29.957674</td>\n",
       "      <td>0.0</td>\n",
       "      <td>3.0</td>\n",
       "      <td>4.0</td>\n",
       "      <td>3.0</td>\n",
       "      <td>0.0</td>\n",
       "      <td>0.0</td>\n",
       "      <td>136</td>\n",
       "      <td>small</td>\n",
       "      <td>The Mountains</td>\n",
       "      <td>yes</td>\n",
       "      <td>35.355721</td>\n",
       "    </tr>\n",
       "  </tbody>\n",
       "</table>\n",
       "</div>"
      ],
      "text/plain": [
       "     house_id            buid_date           date_priced  garden    dst_dock  \\\n",
       "0    6e32cec9   5/5/1600 11:39 AM      6/10/1608 8:17 AM     0.0    6.555428   \n",
       "1    6e32cee9   2/11/1603 2:55 PM      5/23/1611 7:33 AM     NaN   38.977167   \n",
       "2    6e32ceeb   9/28/1600 7:35 PM     2/12/1611 11:42 PM     0.0  135.364314   \n",
       "3    6e32cf70   8/24/1600 2:21 PM      8/22/1611 5:37 AM     0.0         NaN   \n",
       "4    6e32cf8c    9/3/1606 3:11 AM     12/23/1607 5:57 PM     NaN   28.097092   \n",
       "\n",
       "   dst_capital    dst_mkt   dst_tower  dst_river  renovation  dining_rooms  \\\n",
       "0   136.448973  78.445508   88.480988  72.245533         0.0           3.0   \n",
       "1     5.128739  44.068565  152.377106  20.965323         0.0           2.0   \n",
       "2    85.723029        NaN   48.236597  19.196820         0.0           2.0   \n",
       "3    61.604752  85.026054  111.073489  17.494191         NaN           3.0   \n",
       "4    24.365967  47.656262   27.190590  29.957674         0.0           3.0   \n",
       "\n",
       "   bedrooms  bathrooms  king_visit  curse  king_blessing farm_land  \\\n",
       "0       NaN        2.0         0.0    0.0             24     small   \n",
       "1       3.0        4.0         0.0    0.0            155     small   \n",
       "2       2.0        4.0         0.0    0.0             74     small   \n",
       "3       3.0        3.0         0.0    0.0             98      huge   \n",
       "4       4.0        3.0         0.0    0.0            136     small   \n",
       "\n",
       "         locations holy_tree  dst_knight  \n",
       "0              NaN       yes  146.553349  \n",
       "1   King's Landing       NaN   15.416810  \n",
       "2    The Mountains       NaN   96.158416  \n",
       "3    The Mountains       yes   72.449136  \n",
       "4    The Mountains       yes   35.355721  "
      ]
     },
     "execution_count": 6,
     "metadata": {},
     "output_type": "execute_result"
    }
   ],
   "source": [
    "df.head()"
   ]
  },
  {
   "cell_type": "code",
   "execution_count": 8,
   "metadata": {},
   "outputs": [
    {
     "data": {
      "text/plain": [
       "house_id         1393\n",
       "buid_date        1393\n",
       "date_priced      1393\n",
       "garden           1209\n",
       "dst_dock         1251\n",
       "dst_capital      1323\n",
       "dst_mkt          1184\n",
       "dst_tower        1356\n",
       "dst_river        1393\n",
       "renovation       1248\n",
       "dining_rooms     1257\n",
       "bedrooms         1343\n",
       "bathrooms        1318\n",
       "king_visit       1283\n",
       "curse            1315\n",
       "king_blessing    1393\n",
       "farm_land        1393\n",
       "locations        1256\n",
       "holy_tree        1126\n",
       "dst_knight       1323\n",
       "dtype: int64"
      ]
     },
     "execution_count": 8,
     "metadata": {},
     "output_type": "execute_result"
    }
   ],
   "source": [
    "df.count()"
   ]
  },
  {
   "cell_type": "code",
   "execution_count": null,
   "metadata": {
    "collapsed": true
   },
   "outputs": [],
   "source": []
  },
  {
   "cell_type": "code",
   "execution_count": null,
   "metadata": {
    "collapsed": true
   },
   "outputs": [],
   "source": []
  },
  {
   "cell_type": "code",
   "execution_count": null,
   "metadata": {
    "collapsed": true
   },
   "outputs": [],
   "source": []
  },
  {
   "cell_type": "code",
   "execution_count": null,
   "metadata": {
    "collapsed": true
   },
   "outputs": [],
   "source": []
  },
  {
   "cell_type": "code",
   "execution_count": null,
   "metadata": {
    "collapsed": true
   },
   "outputs": [],
   "source": []
  }
 ],
 "metadata": {
  "kernelspec": {
   "display_name": "Python 3",
   "language": "python",
   "name": "python3"
  },
  "language_info": {
   "codemirror_mode": {
    "name": "ipython",
    "version": 3
   },
   "file_extension": ".py",
   "mimetype": "text/x-python",
   "name": "python",
   "nbconvert_exporter": "python",
   "pygments_lexer": "ipython3",
   "version": "3.6.3"
  }
 },
 "nbformat": 4,
 "nbformat_minor": 2
}
